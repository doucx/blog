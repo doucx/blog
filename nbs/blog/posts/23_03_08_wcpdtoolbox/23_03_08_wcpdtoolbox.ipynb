{
 "cells": [
  {
   "cell_type": "raw",
   "id": "b942c76b-1861-45c7-a814-cc99be6d4ff1",
   "metadata": {},
   "source": [
    "---\n",
    "author: [Doucx]\n",
    "date: 2023-03-08\n",
    "description: None\n",
    "tags: [Other]\n",
    "title: 'WcpDToolBox'\n",
    "---"
   ]
  },
  {
   "cell_type": "markdown",
   "id": "a007d41b-4b8e-45a6-8b20-7bb3e75c1c44",
   "metadata": {},
   "source": [
    "# 23_03_08"
   ]
  },
  {
   "cell_type": "markdown",
   "id": "81201299-6a9c-4ccc-8e2b-fa944aac94db",
   "metadata": {},
   "source": [
    "## WcpDToolBox"
   ]
  },
  {
   "cell_type": "markdown",
   "id": "44cce93e-62a0-434a-b0b1-f48e806f905d",
   "metadata": {},
   "source": [
    "制作了一组工具包,为了美好的生活"
   ]
  },
  {
   "cell_type": "markdown",
   "id": "012b376e-1f5c-4966-829a-5d1122b958e1",
   "metadata": {},
   "source": [
    "## Vim"
   ]
  },
  {
   "cell_type": "markdown",
   "id": "3e30efd9-24eb-4c69-981c-f547fc05facf",
   "metadata": {},
   "source": [
    "使用`Vim-Plug`安装了一些插件,vim变得更好看了"
   ]
  },
  {
   "cell_type": "code",
   "execution_count": null,
   "id": "33ef5949-387e-4ca0-8e94-357e0f671d6c",
   "metadata": {},
   "outputs": [],
   "source": []
  }
 ],
 "metadata": {
  "kernelspec": {
   "display_name": "Python 3 (ipykernel)",
   "language": "python",
   "name": "python3"
  },
  "widgets": {
   "application/vnd.jupyter.widget-state+json": {
    "state": {},
    "version_major": 2,
    "version_minor": 0
   }
  }
 },
 "nbformat": 4,
 "nbformat_minor": 5
}
