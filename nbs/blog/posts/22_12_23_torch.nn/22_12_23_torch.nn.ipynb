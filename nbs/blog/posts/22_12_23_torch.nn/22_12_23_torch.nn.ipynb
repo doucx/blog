{
 "cells": [
  {
   "cell_type": "raw",
   "id": "5e94231d-fb46-4ded-a272-1da2b756f2d2",
   "metadata": {},
   "source": [
    "---\n",
    "author: [Doucx]\n",
    "date: 2022-12-23\n",
    "description: torch.nn 模块\n",
    "tags: [Torch]\n",
    "title: 'torch.nn'\n",
    "---"
   ]
  },
  {
   "cell_type": "code",
   "execution_count": null,
   "id": "52ed9320-2883-44b5-b0a3-b4fafc576419",
   "metadata": {},
   "outputs": [],
   "source": [
    "import kaggle\n",
    "import zipfile\n",
    "from fastkaggle import *\n",
    "from fastcore import *\n",
    "from fastbook import *\n",
    "from fastcore.all import *\n",
    "import fastbook\n",
    "fastbook.setup_book()\n",
    "import torch\n",
    "from torch.autograd import Variable\n",
    "from torch import autograd\n",
    "import torch.nn as nn\n",
    "from torchvision import transforms"
   ]
  },
  {
   "cell_type": "code",
   "execution_count": null,
   "id": "9a1d4913-99cd-4a78-8f3f-a31315a5d095",
   "metadata": {},
   "outputs": [],
   "source": [
    "#hide\n",
    "!nbdev_"
   ]
  },
  {
   "cell_type": "markdown",
   "id": "85040402-0d98-4b36-87d1-f2bb2c7346bd",
   "metadata": {},
   "source": [
    "# torch.nn note"
   ]
  },
  {
   "cell_type": "markdown",
   "id": "3f311fc2-f068-470f-a004-94fff8e56246",
   "metadata": {},
   "source": [
    "# Containers（容器）："
   ]
  },
  {
   "cell_type": "markdown",
   "id": "7a8e2cff-d638-4698-951f-f359f19ecbe2",
   "metadata": {},
   "source": [
    "## nn.Module"
   ]
  },
  {
   "cell_type": "markdown",
   "id": "f25d7b79-1778-449e-82be-c9c1e612ab8c",
   "metadata": {},
   "source": [
    "一个基本的卷积网络，包含初始化和forward"
   ]
  },
  {
   "cell_type": "code",
   "execution_count": null,
   "id": "78af0a25-d920-48ad-829c-274912de3d2e",
   "metadata": {},
   "outputs": [],
   "source": [
    "class Model(nn.Module):\n",
    "    def __init__(self):\n",
    "        super(Model, self).__init__()\n",
    "        self.conv1 = nn.Conv2d(1, 20, 5)  # submodule: Conv2d\n",
    "        self.conv2 = nn.Conv2d(20, 20, 5)\n",
    "\n",
    "    def forward(self, x):\n",
    "        x = F.relu(self.conv1(x))\n",
    "        return F.relu(self.conv2(x))"
   ]
  },
  {
   "cell_type": "markdown",
   "id": "9cb551a5-c96a-436f-bcff-ceb2f5f82705",
   "metadata": {},
   "source": [
    "可见，其中包含：\n",
    "- `__init__` 模型初始化方法\n",
    "    - `super(Model, self).__init__()` 初始化上一层\n",
    "- `forward` 前向传播"
   ]
  },
  {
   "cell_type": "markdown",
   "id": "246650cd-73bf-4106-a47f-5f9dc70acc38",
   "metadata": {},
   "source": [
    "## add_module(name, module)"
   ]
  },
  {
   "cell_type": "markdown",
   "id": "e2e6ec69-a3bf-4e1d-8b05-35769106a649",
   "metadata": {},
   "source": [
    "将一个 `child module` 添加到当前 `modle`。  \n",
    "被添加的`module`可以通过 `name`属性来获取。 例："
   ]
  },
  {
   "cell_type": "code",
   "execution_count": null,
   "id": "0bac74f1-5687-4cab-b81d-9ecb43ae2842",
   "metadata": {},
   "outputs": [
    {
     "name": "stdout",
     "output_type": "stream",
     "text": [
      "Conv2d(10, 20, kernel_size=(4, 4), stride=(1, 1))\n"
     ]
    }
   ],
   "source": [
    "class Model(nn.Module):\n",
    "    def __init__(self):\n",
    "        super(Model, self).__init__()\n",
    "        self.add_module(\"conv\", nn.Conv2d(10, 20, 4))\n",
    "\n",
    "        # self.conv = nn.Conv2d(10, 20, 4) 和上面这个增加module的方式等价\n",
    "model = Model()\n",
    "print(model.conv)"
   ]
  },
  {
   "cell_type": "markdown",
   "id": "ef332eed-80ae-4fe2-9230-9e22ae7da82d",
   "metadata": {},
   "source": [
    "## children()"
   ]
  },
  {
   "cell_type": "markdown",
   "id": "4b9ec4da-0cb7-48b8-a90c-195e74caac8d",
   "metadata": {},
   "source": [
    "返回模型子模块的迭代器"
   ]
  },
  {
   "cell_type": "code",
   "execution_count": null,
   "id": "5f1d118c-d13e-422f-bf33-c9e6a4aad020",
   "metadata": {},
   "outputs": [],
   "source": [
    "model = resnet18()"
   ]
  },
  {
   "cell_type": "code",
   "execution_count": null,
   "id": "2e358438-e110-4296-b3bb-f2b611c83f8f",
   "metadata": {},
   "outputs": [
    {
     "name": "stdout",
     "output_type": "stream",
     "text": [
      "Conv2d(3, 64, kernel_size=(7, 7), stride=(2, 2), padding=(3, 3), bias=False)\n",
      "BatchNorm2d(64, eps=1e-05, momentum=0.1, affine=True, track_running_stats=True)\n",
      "ReLU(inplace=True)\n",
      "MaxPool2d(kernel_size=3, stride=2, padding=1, dilation=1, ceil_mode=False)\n"
     ]
    }
   ],
   "source": [
    "i = 0\n",
    "for sub_module in model.children():\n",
    "    i += 1\n",
    "    print(sub_module)\n",
    "    if i == 4:\n",
    "        break"
   ]
  },
  {
   "cell_type": "markdown",
   "id": "710dd8ff-a463-4a5d-93f0-1bfddc9ea92a",
   "metadata": {},
   "source": [
    "## cpu(device_id=None)  \n",
    "将所有的模型参数(parameters)和buffers复制到CPU"
   ]
  },
  {
   "cell_type": "code",
   "execution_count": null,
   "id": "fef7b641-0013-438b-b483-e3955b67c205",
   "metadata": {},
   "outputs": [],
   "source": [
    "model = model.cpu()"
   ]
  },
  {
   "cell_type": "markdown",
   "id": "a285992b-a621-4c2e-871d-bdb35a961a13",
   "metadata": {},
   "source": [
    "## cuda(device_id=None)\n",
    "将所有的模型参数(parameters)和buffers赋值GPU\n",
    "\n",
    "参数说明:\n",
    "\n",
    "device_id (int, optional) – 如果指定的话，所有的模型参数都会复制到指定的设备上。"
   ]
  },
  {
   "cell_type": "code",
   "execution_count": null,
   "id": "058de009-d8dc-4920-a2c7-651b9218f5a2",
   "metadata": {},
   "outputs": [],
   "source": [
    "model = model.cuda()"
   ]
  },
  {
   "cell_type": "markdown",
   "id": "d64cf7f8-bce5-4b30-a26d-11ef175c731c",
   "metadata": {},
   "source": [
    "## double()\n",
    "将parameters和buffers的数据类型转换成double。"
   ]
  },
  {
   "cell_type": "code",
   "execution_count": null,
   "id": "54c8cc62-54cc-4d35-b46b-7a503f0705ef",
   "metadata": {},
   "outputs": [],
   "source": [
    "model = model.double()"
   ]
  },
  {
   "cell_type": "markdown",
   "id": "e64e6c13-34ed-4231-b279-f72aec439e12",
   "metadata": {},
   "source": [
    "## eval()\n",
    "将模型设置成evaluation模式\n",
    "\n",
    "仅仅当模型中有Dropout和BatchNorm是才会有影响。"
   ]
  },
  {
   "cell_type": "code",
   "execution_count": null,
   "id": "ec5ab1d2-8b2d-4d32-9a4c-e189cf71eeed",
   "metadata": {},
   "outputs": [],
   "source": [
    "model = model.eval()"
   ]
  },
  {
   "cell_type": "markdown",
   "id": "75085186-4591-43e2-b84d-b1c761a63cc5",
   "metadata": {},
   "source": [
    "若是在模型的非训练阶段（如 evaluation 阶段）未使用 model.eval() 将 model 设置成评估模式，有可能会造成同一样本的多次推断结果不一致的情况"
   ]
  },
  {
   "cell_type": "markdown",
   "id": "62c372cf-4ffb-4a22-bd16-aa517aa08c61",
   "metadata": {},
   "source": [
    "## float()\n",
    "将parameters和buffers的数据类型转换成float。"
   ]
  },
  {
   "cell_type": "code",
   "execution_count": null,
   "id": "836dd5f1-5804-49c8-b951-772c75d512d7",
   "metadata": {},
   "outputs": [],
   "source": [
    "model = model.float()"
   ]
  },
  {
   "cell_type": "markdown",
   "id": "d2d35e3e-41e6-4591-9eb0-9c148299b151",
   "metadata": {},
   "source": [
    "## forward(* input)\n",
    "定义了每次执行的 计算步骤。 在所有的子类中都需要重写这个函数。"
   ]
  },
  {
   "cell_type": "code",
   "execution_count": null,
   "id": "813a3ff5-fde0-4f4d-94b8-f4092f5d48ce",
   "metadata": {},
   "outputs": [],
   "source": [
    "class Model(nn.Module):\n",
    "    def __init__(self):\n",
    "        super(Model, self).__init__()\n",
    "        self.conv1 = nn.Conv2d(1, 20, 5)  # submodule: Conv2d\n",
    "        self.conv2 = nn.Conv2d(20, 20, 5)\n",
    "\n",
    "    def forward(self, x):\n",
    "        x = F.relu(self.conv1(x))\n",
    "        return F.relu(self.conv2(x))"
   ]
  },
  {
   "cell_type": "markdown",
   "id": "cede0fd1-ed86-4db3-8125-908048cb586e",
   "metadata": {},
   "source": [
    "就是这个forward"
   ]
  },
  {
   "cell_type": "markdown",
   "id": "e9fe3967-9c51-4b78-be79-88256774f2ec",
   "metadata": {},
   "source": [
    "## half()\n",
    "将parameters和buffers的数据类型转换成half。"
   ]
  },
  {
   "cell_type": "code",
   "execution_count": null,
   "id": "8abee754-eea3-4174-a66a-4828dfee0712",
   "metadata": {},
   "outputs": [],
   "source": [
    "model = model.half()"
   ]
  },
  {
   "cell_type": "markdown",
   "id": "7ac8e6bc-2edf-44d4-bddb-3cd80f66b8ca",
   "metadata": {},
   "source": [
    "## load_state_dict(state_dict)\n",
    "将state_dict中的parameters和buffers复制到此module和它的后代中。state_dict中的key**必须**和 model.state_dict()返回的key一致。 NOTE：用来加载模型参数。\n",
    "\n",
    "参数说明:\n",
    "\n",
    "state_dict (dict) – 保存parameters和persistent buffers的字典。"
   ]
  },
  {
   "cell_type": "code",
   "execution_count": null,
   "id": "22254128-92cb-4705-b4f8-f3d660254780",
   "metadata": {},
   "outputs": [],
   "source": [
    "model = resnet18()"
   ]
  },
  {
   "cell_type": "code",
   "execution_count": null,
   "id": "7ac3511c-a0c7-4d12-83cc-b21cd1db7d05",
   "metadata": {},
   "outputs": [
    {
     "data": {
      "text/plain": [
       "<All keys matched successfully>"
      ]
     },
     "execution_count": null,
     "metadata": {},
     "output_type": "execute_result"
    }
   ],
   "source": [
    "model.load_state_dict(resnet18().state_dict())"
   ]
  },
  {
   "cell_type": "markdown",
   "id": "e9df2869-4f2d-4363-976a-5340a2dc9bf6",
   "metadata": {},
   "source": [
    "## modules()\n",
    "返回一个包含 当前模型 所有模块的迭代器。"
   ]
  },
  {
   "cell_type": "code",
   "execution_count": null,
   "id": "11829c52-adfe-477a-8066-a03a88cc3688",
   "metadata": {},
   "outputs": [],
   "source": [
    "class Model(nn.Module):\n",
    "    def __init__(self):\n",
    "        super(Model, self).__init__()\n",
    "        self.add_module(\"conv\", nn.Conv2d(10, 20, 4))\n",
    "        self.add_module(\"conv1\", nn.Conv2d(20, 10, 4))\n",
    "\n",
    "\n",
    "model = Model()"
   ]
  },
  {
   "cell_type": "code",
   "execution_count": null,
   "id": "37df5aae-e0a9-4601-9bdc-f11b4368f87f",
   "metadata": {},
   "outputs": [
    {
     "name": "stdout",
     "output_type": "stream",
     "text": [
      "Model(\n",
      "  (conv): Conv2d(10, 20, kernel_size=(4, 4), stride=(1, 1))\n",
      "  (conv1): Conv2d(20, 10, kernel_size=(4, 4), stride=(1, 1))\n",
      ")\n",
      "-------------CUTTHERE---------------\n",
      "Conv2d(10, 20, kernel_size=(4, 4), stride=(1, 1))\n",
      "-------------CUTTHERE---------------\n",
      "Conv2d(20, 10, kernel_size=(4, 4), stride=(1, 1))\n",
      "-------------CUTTHERE---------------\n"
     ]
    }
   ],
   "source": [
    "for module in model.modules():\n",
    "    print(module)\n",
    "    print('-------------CUTTHERE---------------')"
   ]
  },
  {
   "cell_type": "markdown",
   "id": "f23ad977-6d8e-40d0-a9de-a3dc0a22a141",
   "metadata": {},
   "source": [
    "可以看见，它输出了所有的模块"
   ]
  },
  {
   "cell_type": "markdown",
   "id": "54914559-80ee-4277-85a8-a5478a9fa455",
   "metadata": {},
   "source": [
    "重复的模块只被返回一次(children()也是)"
   ]
  },
  {
   "cell_type": "code",
   "execution_count": null,
   "id": "d29f697d-4f5a-415c-b893-f12a02b1e60e",
   "metadata": {},
   "outputs": [],
   "source": [
    "class Model(nn.Module):\n",
    "    def __init__(self):\n",
    "        super(Model, self).__init__()\n",
    "        submodule = nn.Conv2d(10, 20, 4)\n",
    "        self.add_module('conv1', submodule)\n",
    "        self.add_module('cv2', submodule)\n",
    "        self.add_module('cv20', submodule)"
   ]
  },
  {
   "cell_type": "code",
   "execution_count": null,
   "id": "6e7b51c9-182f-46b5-ac9e-c4f9b987b0ef",
   "metadata": {},
   "outputs": [],
   "source": [
    "model = Model()"
   ]
  },
  {
   "cell_type": "code",
   "execution_count": null,
   "id": "62497fee-6555-414f-911c-5b2c6f292630",
   "metadata": {},
   "outputs": [
    {
     "name": "stdout",
     "output_type": "stream",
     "text": [
      "Model(\n",
      "  (conv1): Conv2d(10, 20, kernel_size=(4, 4), stride=(1, 1))\n",
      "  (cv2): Conv2d(10, 20, kernel_size=(4, 4), stride=(1, 1))\n",
      "  (cv20): Conv2d(10, 20, kernel_size=(4, 4), stride=(1, 1))\n",
      ")\n",
      "-------------CUTTHERE---------------\n",
      "Conv2d(10, 20, kernel_size=(4, 4), stride=(1, 1))\n",
      "-------------CUTTHERE---------------\n"
     ]
    }
   ],
   "source": [
    "for module in model.modules():\n",
    "    print(module)\n",
    "    print('-------------CUTTHERE---------------')"
   ]
  },
  {
   "cell_type": "markdown",
   "id": "394892aa-94b3-4627-b918-5af9e22e901c",
   "metadata": {},
   "source": [
    "## named_children()\n",
    "返回 包含 模型当前子模块 的迭代器，yield 模块名字和模块本身。"
   ]
  },
  {
   "cell_type": "code",
   "execution_count": null,
   "id": "14b4e180-7f99-43b2-9ba6-5daf7afa3af2",
   "metadata": {},
   "outputs": [
    {
     "name": "stdout",
     "output_type": "stream",
     "text": [
      "conv1 Conv2d(10, 20, kernel_size=(4, 4), stride=(1, 1))\n"
     ]
    }
   ],
   "source": [
    "for name, module in model.named_children():\n",
    "    # if name in ['conv4', 'conv5']:\n",
    "    print(name, module)"
   ]
  },
  {
   "cell_type": "markdown",
   "id": "97b94992-2b91-4707-b7eb-b5e12a4228f4",
   "metadata": {},
   "source": [
    "## parameters(memo=None)\n",
    "返回一个 包含模型所有参数 的迭代器。\n",
    "\n",
    "一般用来当作`optimizer`的参数。"
   ]
  },
  {
   "cell_type": "code",
   "execution_count": null,
   "id": "d9078e5c-c520-465e-b16c-cbdb2924b4d7",
   "metadata": {},
   "outputs": [],
   "source": [
    "model = Model()"
   ]
  },
  {
   "cell_type": "code",
   "execution_count": null,
   "id": "4b9073e2-3749-4b1f-8723-ae4c87b5a03a",
   "metadata": {},
   "outputs": [
    {
     "name": "stdout",
     "output_type": "stream",
     "text": [
      "<class 'torch.Tensor'> torch.Size([20, 10, 4, 4])\n",
      "<class 'torch.Tensor'> torch.Size([20])\n"
     ]
    }
   ],
   "source": [
    "for i in model.parameters():\n",
    "    print(type(i.data), i.size())"
   ]
  },
  {
   "cell_type": "markdown",
   "id": "947632a7-c484-4839-a2a8-e1f06f3b6e1b",
   "metadata": {},
   "source": [
    "## state_dict(destination=None, prefix='')[source]\n",
    "返回一个字典，保存着module的所有状态（state）。\n",
    "\n",
    "parameters和persistent buffers都会包含在字典中，字典的key就是parameter和buffer的 names。\n",
    "\n",
    "例子："
   ]
  },
  {
   "cell_type": "code",
   "execution_count": null,
   "id": "41e737b8-9c0f-46f8-b0e2-1ddbeabce14e",
   "metadata": {},
   "outputs": [
    {
     "name": "stdout",
     "output_type": "stream",
     "text": [
      "OrderedDict([('par', tensor([0.4542])), ('buffer', tensor([[ 2.1136,  0.1283,  0.4152],\n",
      "        [ 1.4492, -0.8829,  0.0859]])), ('conv2.weight', tensor([[-0.0936],\n",
      "        [ 0.7408]])), ('conv2.bias', tensor([-0.8880, -0.3095]))])\n"
     ]
    }
   ],
   "source": [
    "class Model(nn.Module):\n",
    "    def __init__(self):\n",
    "        super(Model, self).__init__()\n",
    "        self.conv2 = nn.Linear(1, 2)\n",
    "        self.vari = Variable(torch.rand([1]))\n",
    "        self.par = nn.Parameter(torch.rand([1]))\n",
    "        self.register_buffer(\"buffer\", torch.randn([2, 3]))\n",
    "\n",
    "    def forward(self, x):\n",
    "        x = self.conv2(x)\n",
    "        return x\n",
    "\n",
    "\n",
    "model = Model()\n",
    "print(model.state_dict())  # .keys())"
   ]
  },
  {
   "cell_type": "markdown",
   "id": "aec8450f-c2f5-4aa6-885e-7153694ca676",
   "metadata": {},
   "source": [
    "NOTE：`.keys()`:显示`OrderedDict`的key"
   ]
  },
  {
   "cell_type": "code",
   "execution_count": null,
   "id": "82799622-63df-4646-9d0c-e9d56e23c9f5",
   "metadata": {},
   "outputs": [
    {
     "name": "stdout",
     "output_type": "stream",
     "text": [
      "odict_keys(['par', 'buffer', 'conv2.weight', 'conv2.bias'])\n"
     ]
    }
   ],
   "source": [
    "print(model.state_dict().keys())"
   ]
  },
  {
   "cell_type": "markdown",
   "id": "22677009-284a-4261-b962-835c733ad2a6",
   "metadata": {},
   "source": [
    "## train(mode=True)\n",
    "将module设置为 training mode。\n",
    "\n",
    "仅仅当模型中有Dropout和BatchNorm是才会有影响。"
   ]
  },
  {
   "cell_type": "code",
   "execution_count": null,
   "id": "8caf0e60-73d2-4875-9259-3dfca2d27f35",
   "metadata": {},
   "outputs": [],
   "source": []
  },
  {
   "cell_type": "markdown",
   "id": "4b6545f7-34d5-4768-958e-0f6d2c413b16",
   "metadata": {},
   "source": [
    "## zero_grad()\n",
    "将module中的所有模型参数的梯度设置为0."
   ]
  },
  {
   "cell_type": "code",
   "execution_count": null,
   "id": "6f188213-4469-46e5-addd-12af76bf46b8",
   "metadata": {},
   "outputs": [],
   "source": [
    "model.zero_grad()"
   ]
  },
  {
   "cell_type": "markdown",
   "id": "d9dbbeb3-0a79-4a93-abea-b574c8191df7",
   "metadata": {},
   "source": [
    "## class torch.nn.Sequential(* args)"
   ]
  },
  {
   "cell_type": "markdown",
   "id": "c301bd09-f78c-416a-a598-337a43943533",
   "metadata": {},
   "source": [
    "一个时序容器。`Modules` 会以他们传入的顺序被添加到容器中。当然，也可以传入一个`OrderedDict`。"
   ]
  },
  {
   "cell_type": "code",
   "execution_count": null,
   "id": "e2db1b97-474c-4683-a1ec-8f1089d987f3",
   "metadata": {},
   "outputs": [],
   "source": [
    "model = nn.Sequential(\n",
    "    nn.Conv2d(1, 20, 5),\n",
    "    nn.ReLU(),\n",
    "    nn.Conv2d(20, 64, 5),\n",
    "    nn.ReLU()\n",
    ")\n",
    "# Example of using Sequential with OrderedDict\n",
    "model = nn.Sequential(OrderedDict([\n",
    "    ('conv1', nn.Conv2d(1, 20, 5)),\n",
    "    ('relu1', nn.ReLU()),\n",
    "    ('conv2', nn.Conv2d(20, 64, 5)),\n",
    "    ('relu2', nn.ReLU())\n",
    "]))"
   ]
  },
  {
   "cell_type": "code",
   "execution_count": null,
   "id": "a536273b-046f-433d-aff2-ec22d54a58ce",
   "metadata": {},
   "outputs": [
    {
     "data": {
      "text/plain": [
       "Sequential(\n",
       "  (conv1): Conv2d(1, 20, kernel_size=(5, 5), stride=(1, 1))\n",
       "  (relu1): ReLU()\n",
       "  (conv2): Conv2d(20, 64, kernel_size=(5, 5), stride=(1, 1))\n",
       "  (relu2): ReLU()\n",
       ")"
      ]
     },
     "execution_count": null,
     "metadata": {},
     "output_type": "execute_result"
    }
   ],
   "source": [
    "model"
   ]
  },
  {
   "cell_type": "markdown",
   "id": "92876b21-648a-4d95-ad90-dcb0863c9c6e",
   "metadata": {},
   "source": [
    "## class torch.nn.ModuleList(modules=None)"
   ]
  },
  {
   "cell_type": "markdown",
   "id": "78b70fe1-88e7-40dd-8ab8-3196853dfe54",
   "metadata": {},
   "source": [
    "将`submodules`保存在一个`list`中。\n",
    "\n",
    "`ModuleList`可以像一般的Python `list`一样被索引。而且`ModuleList`中包含的`modules`已经被正确的注册，对所有的`module method`可见。"
   ]
  },
  {
   "cell_type": "code",
   "execution_count": null,
   "id": "a34729d0-b285-4b17-8c6e-3421ce422042",
   "metadata": {},
   "outputs": [],
   "source": [
    "class MyModule(nn.Module):\n",
    "    def __init__(self):\n",
    "        super(MyModule, self).__init__()\n",
    "        self.linears = nn.ModuleList([nn.Linear(10, 10) for i in range(10)])\n",
    "\n",
    "    def forward(self, x):\n",
    "        # ModuleList can act as an iterable, or be indexed         using ints\n",
    "        for i, l in enumerate(self.linears):\n",
    "            x = self.linears[i // 2](x) + l(x)\n",
    "        return x"
   ]
  },
  {
   "cell_type": "code",
   "execution_count": null,
   "id": "6100986e-5fb2-40d0-8e05-e4108bed466d",
   "metadata": {},
   "outputs": [],
   "source": [
    "model = MyModule()"
   ]
  },
  {
   "cell_type": "code",
   "execution_count": null,
   "id": "50eac495-4ee7-42f3-a8f2-fa3a6c8a9f30",
   "metadata": {},
   "outputs": [
    {
     "name": "stdout",
     "output_type": "stream",
     "text": [
      "MyModule(\n",
      "  (linears): ModuleList(\n",
      "    (0): Linear(in_features=10, out_features=10, bias=True)\n",
      "    (1): Linear(in_features=10, out_features=10, bias=True)\n",
      "    (2): Linear(in_features=10, out_features=10, bias=True)\n",
      "    (3): Linear(in_features=10, out_features=10, bias=True)\n",
      "    (4): Linear(in_features=10, out_features=10, bias=True)\n",
      "    (5): Linear(in_features=10, out_features=10, bias=True)\n",
      "    (6): Linear(in_features=10, out_features=10, bias=True)\n",
      "    (7): Linear(in_features=10, out_features=10, bias=True)\n",
      "    (8): Linear(in_features=10, out_features=10, bias=True)\n",
      "    (9): Linear(in_features=10, out_features=10, bias=True)\n",
      "  )\n",
      ")\n",
      "-------------CUTTHERE---------------\n",
      "ModuleList(\n",
      "  (0): Linear(in_features=10, out_features=10, bias=True)\n",
      "  (1): Linear(in_features=10, out_features=10, bias=True)\n",
      "  (2): Linear(in_features=10, out_features=10, bias=True)\n",
      "  (3): Linear(in_features=10, out_features=10, bias=True)\n",
      "  (4): Linear(in_features=10, out_features=10, bias=True)\n",
      "  (5): Linear(in_features=10, out_features=10, bias=True)\n",
      "  (6): Linear(in_features=10, out_features=10, bias=True)\n",
      "  (7): Linear(in_features=10, out_features=10, bias=True)\n",
      "  (8): Linear(in_features=10, out_features=10, bias=True)\n",
      "  (9): Linear(in_features=10, out_features=10, bias=True)\n",
      ")\n",
      "-------------CUTTHERE---------------\n",
      "Linear(in_features=10, out_features=10, bias=True)\n",
      "-------------CUTTHERE---------------\n",
      "Linear(in_features=10, out_features=10, bias=True)\n",
      "-------------CUTTHERE---------------\n",
      "Linear(in_features=10, out_features=10, bias=True)\n",
      "-------------CUTTHERE---------------\n",
      "Linear(in_features=10, out_features=10, bias=True)\n",
      "-------------CUTTHERE---------------\n",
      "Linear(in_features=10, out_features=10, bias=True)\n",
      "-------------CUTTHERE---------------\n",
      "Linear(in_features=10, out_features=10, bias=True)\n",
      "-------------CUTTHERE---------------\n",
      "Linear(in_features=10, out_features=10, bias=True)\n",
      "-------------CUTTHERE---------------\n",
      "Linear(in_features=10, out_features=10, bias=True)\n",
      "-------------CUTTHERE---------------\n",
      "Linear(in_features=10, out_features=10, bias=True)\n",
      "-------------CUTTHERE---------------\n",
      "Linear(in_features=10, out_features=10, bias=True)\n",
      "-------------CUTTHERE---------------\n"
     ]
    }
   ],
   "source": [
    "for module in model.modules():\n",
    "    print(module)\n",
    "    print('-------------CUTTHERE---------------')"
   ]
  },
  {
   "cell_type": "markdown",
   "id": "8110a5be-60d0-4b9b-bd4b-3271b8ca53be",
   "metadata": {},
   "source": [
    "## append(module)"
   ]
  },
  {
   "cell_type": "markdown",
   "id": "a2ed7361-7a18-439c-8d9b-2af132bb7f4e",
   "metadata": {},
   "source": [
    "等价于 `list` 的 `append()`\n",
    "\n",
    "参数说明:\n",
    "\n",
    "module (nn.Module) – 要 append 的module"
   ]
  },
  {
   "cell_type": "code",
   "execution_count": null,
   "id": "c6f4fcd3-20df-4517-ad95-4bb3c73a8bf6",
   "metadata": {},
   "outputs": [
    {
     "data": {
      "text/plain": [
       "ModuleList(\n",
       "  (0): Linear(in_features=1, out_features=10, bias=True)\n",
       "  (1): Linear(in_features=1, out_features=10, bias=True)\n",
       "  (2): Linear(in_features=1, out_features=10, bias=True)\n",
       "  (3): Linear(in_features=1, out_features=10, bias=True)\n",
       "  (4): Linear(in_features=1, out_features=10, bias=True)\n",
       "  (5): Linear(in_features=1, out_features=10, bias=True)\n",
       "  (6): Linear(in_features=1, out_features=10, bias=True)\n",
       "  (7): Linear(in_features=1, out_features=10, bias=True)\n",
       "  (8): Linear(in_features=1, out_features=10, bias=True)\n",
       ")"
      ]
     },
     "execution_count": null,
     "metadata": {},
     "output_type": "execute_result"
    }
   ],
   "source": [
    "list0.append(nn.Linear(1, 10))"
   ]
  },
  {
   "cell_type": "markdown",
   "id": "8d6618b1-03e3-4e68-83ac-13adb44fbf46",
   "metadata": {},
   "source": [
    "## extend(modules)"
   ]
  },
  {
   "cell_type": "markdown",
   "id": "17ddf748-aabd-4c8e-b2b6-4677ab5affd9",
   "metadata": {},
   "source": [
    "等价于 `list` 的 `extend()` 方法\n",
    "\n",
    "参数说明:\n",
    "\n",
    "modules (list) – list of modules to append"
   ]
  },
  {
   "cell_type": "code",
   "execution_count": null,
   "id": "b337dc13-6051-464d-a22b-b9eaff36306a",
   "metadata": {},
   "outputs": [],
   "source": [
    "list0 = nn.ModuleList([nn.Linear(1, 10)])"
   ]
  },
  {
   "cell_type": "code",
   "execution_count": null,
   "id": "8a9f251a-f08a-4774-af9c-bee38534995b",
   "metadata": {},
   "outputs": [
    {
     "data": {
      "text/plain": [
       "ModuleList(\n",
       "  (0): Linear(in_features=1, out_features=10, bias=True)\n",
       ")"
      ]
     },
     "execution_count": null,
     "metadata": {},
     "output_type": "execute_result"
    }
   ],
   "source": [
    "list0"
   ]
  },
  {
   "cell_type": "code",
   "execution_count": null,
   "id": "fe69aea8-42a6-40fb-97b4-26e417b1f34e",
   "metadata": {},
   "outputs": [
    {
     "data": {
      "text/plain": [
       "ModuleList(\n",
       "  (0): Linear(in_features=1, out_features=10, bias=True)\n",
       "  (1): Linear(in_features=1, out_features=10, bias=True)\n",
       "  (2): Linear(in_features=1, out_features=10, bias=True)\n",
       ")"
      ]
     },
     "execution_count": null,
     "metadata": {},
     "output_type": "execute_result"
    }
   ],
   "source": [
    "list0.extend([nn.Linear(1, 10), nn.Linear(1, 10)])"
   ]
  },
  {
   "cell_type": "markdown",
   "id": "e1396ed1-69ee-40e9-b0e2-80dc6be39118",
   "metadata": {},
   "source": [
    "extend输入迭代器/列表等，append输入一个数据"
   ]
  },
  {
   "cell_type": "markdown",
   "id": "dba1f56e-7db1-46c2-b755-913acc51818a",
   "metadata": {},
   "source": [
    "# 卷积层"
   ]
  },
  {
   "cell_type": "markdown",
   "id": "838c92e6-cfc8-4987-84cc-4edaf7986e17",
   "metadata": {},
   "source": [
    "## class torch.nn.Conv1d"
   ]
  },
  {
   "cell_type": "markdown",
   "id": "5dbd4302-6242-484b-bd1c-a583dd4e0bf5",
   "metadata": {},
   "source": [
    "- in_channels(int) \n",
    "    - 输入信号的通道(比如RGB)\n",
    "- out_channels(int) \n",
    "    - 卷积产生的通道（比如六个通道）\n",
    "- kerner_size(int or tuple) \n",
    "    - 卷积核的尺寸\n",
    "- stride(int or tuple, optional) \n",
    "    - 卷积步长（用来节省计算量）\n",
    "- padding (int or tuple, optional)\n",
    "    - 输入的每一条边补充0的层数（补充边缘）\n",
    "- dilation(int or tuple, `optional``) \n",
    "    - 卷积核元素之间的间距（空洞卷积）\n",
    "- groups(int, optional)  \n",
    "    - 从输入通道到输出通道的阻塞连接数（控制输入和输出之间的连接， group=1，输出是所有的输入的卷积；group=2，此时相当于有并排的两个卷积层，每个卷积层计算输入通道的一半，并且产生的输出是输出通道的一半，随后将这两个输出连接起来。）\n",
    "- bias(bool, optional) - 如果bias=True，添加偏置"
   ]
  },
  {
   "cell_type": "code",
   "execution_count": null,
   "id": "e16dccab-2cd0-4e7b-8862-0bfd8d267715",
   "metadata": {},
   "outputs": [],
   "source": [
    "m = nn.Conv1d(16, 33, 3, stride=2)\n",
    "input0 = torch.autograd.Variable(torch.randn(1, 16, 3))\n",
    "output = m(input0)"
   ]
  },
  {
   "cell_type": "markdown",
   "id": "497cbbc8-bcc9-4d62-9e07-d5b41dea4471",
   "metadata": {},
   "source": [
    "注意：对于一组图片，会产生一组输出\n",
    "\n",
    "图片叠加在第一维度"
   ]
  },
  {
   "cell_type": "markdown",
   "id": "f304b7a8-8ab5-4427-b55c-34c45ff12ea9",
   "metadata": {},
   "source": [
    "比如`torch.randn(10, 16, 3)`在这里相当于十张大小为长3通道16的图片"
   ]
  },
  {
   "cell_type": "code",
   "execution_count": null,
   "id": "c4861bbd-49d9-4359-9fa8-321da3d636d4",
   "metadata": {},
   "outputs": [
    {
     "data": {
      "text/plain": [
       "torch.Size([1, 33, 1])"
      ]
     },
     "execution_count": null,
     "metadata": {},
     "output_type": "execute_result"
    }
   ],
   "source": [
    "output.size()"
   ]
  },
  {
   "cell_type": "markdown",
   "id": "7b6ba4f7-f4e4-4839-b799-ad7b35522b02",
   "metadata": {},
   "source": [
    "`nn.Conv2d,3d`同理，只有卷积核尺寸不同"
   ]
  },
  {
   "cell_type": "markdown",
   "id": "fa8be9ec-4c7f-41a3-8f11-306b096f4760",
   "metadata": {},
   "source": [
    "## class torch.nn.ConvTranspose1d"
   ]
  },
  {
   "cell_type": "markdown",
   "id": "ab0574c5-3b8c-483c-a083-f91390286fc6",
   "metadata": {},
   "source": [
    "1维的解卷积（转置卷积）操作（transposed convolution operator，注意改视作操作可视作解卷积操作，但并不是真正的解卷积操作） 该模块可以看作是Conv1d相对于其输入的梯度，有时（但不正确地）被称为解卷积操作。"
   ]
  },
  {
   "cell_type": "markdown",
   "id": "f6596fd8-c07a-43de-9015-1d2cffc3cec4",
   "metadata": {},
   "source": [
    "很显然，它会丢失信息，并且会产生棋盘格伪影"
   ]
  },
  {
   "cell_type": "markdown",
   "id": "50d9b038-0048-4a69-8951-1d016aa7eecd",
   "metadata": {},
   "source": [
    "输入：  \n",
    "class torch.nn.ConvTranspose2d(in_channels, out_channels, kernel_size, stride=1, padding=0, output_padding=0, groups=1, bias=True)"
   ]
  },
  {
   "cell_type": "markdown",
   "id": "8b5aea8f-c7d5-4498-993c-386c5686c46c",
   "metadata": {},
   "source": [
    "- in_channels(int) – 输入信号的通道数\n",
    "- out_channels(int) – 卷积产生的通道\n",
    "- kernel_size(int or tuple) - 卷积核的大小\n",
    "- stride(int or tuple, optional) - 卷积步长\n",
    "- padding(int or tuple, optional) - 输入的每一条边补充0的层数\n",
    "- output_padding(int or tuple, optional) - 输出的每一条边补充0的层数\n",
    "- dilation(int or tuple, optional) – 卷积核元素之间的间距\n",
    "- groups(int, optional) – 从输入通道到输出通道的阻塞连接数\n",
    "- bias(bool, optional) - 如果bias=True，添加偏置"
   ]
  },
  {
   "cell_type": "code",
   "execution_count": null,
   "id": "e5aa25ea-14bb-47e7-9687-8c56d3ba36c1",
   "metadata": {},
   "outputs": [],
   "source": [
    "im = PILImage.create(imgpath[0])"
   ]
  },
  {
   "cell_type": "code",
   "execution_count": null,
   "id": "ac34c2e4-201b-42b9-bc36-92903a1a902a",
   "metadata": {},
   "outputs": [],
   "source": [
    "data = untar_data(URLs.PETS)\n",
    "\n",
    "imgpath = get_image_files(data/'images')\n",
    "\n",
    "img = ToTensor()(PILImage.create(imgpath[0]))\n",
    "\n",
    "img = img.float()\n",
    "\n",
    "img = img.unsqueeze(0)"
   ]
  },
  {
   "cell_type": "markdown",
   "id": "c084d9f4-b4ff-4ae6-8051-cb451f159f7d",
   "metadata": {},
   "source": [
    "创建一个卷积核"
   ]
  },
  {
   "cell_type": "code",
   "execution_count": null,
   "id": "ab8a7c74-12a0-4057-afb8-1f5f23aa870a",
   "metadata": {},
   "outputs": [
    {
     "data": {
      "text/plain": [
       "<matplotlib.image.AxesImage>"
      ]
     },
     "execution_count": null,
     "metadata": {},
     "output_type": "execute_result"
    },
    {
     "data": {
      "image/png": "[encoded data removed]",
      "text/plain": [
       "<Figure size 640x480 with 1 Axes>"
      ]
     },
     "metadata": {},
     "output_type": "display_data"
    }
   ],
   "source": [
    "conv = nn.Conv2d(3, 1, 3, 2)\n",
    "\n",
    "imgc = conv(img)\n",
    "\n",
    "imga = array(imgc.detach())\n",
    "\n",
    "plt.imshow(imga[0][0])"
   ]
  },
  {
   "cell_type": "markdown",
   "id": "4b7e8aa5-0257-4b35-a17a-70f9687a7b78",
   "metadata": {},
   "source": [
    "转置卷积"
   ]
  },
  {
   "cell_type": "code",
   "execution_count": null,
   "id": "69875380-e803-4f3e-94ab-0965c1dfb732",
   "metadata": {},
   "outputs": [],
   "source": [
    "convt = nn.ConvTranspose2d(1, 3, 3, 2)"
   ]
  },
  {
   "cell_type": "code",
   "execution_count": null,
   "id": "3837ccf3-04d7-493b-9fa9-791c4d664e93",
   "metadata": {},
   "outputs": [
    {
     "data": {
      "text/plain": [
       "torch.Size([1, 1, 187, 249])"
      ]
     },
     "execution_count": null,
     "metadata": {},
     "output_type": "execute_result"
    }
   ],
   "source": [
    "imgc.size()"
   ]
  },
  {
   "cell_type": "code",
   "execution_count": null,
   "id": "6b284cc6-9f09-4030-9dd2-cbb67b75f81a",
   "metadata": {},
   "outputs": [
    {
     "data": {
      "text/plain": [
       "torch.Size([1, 187, 249])"
      ]
     },
     "execution_count": null,
     "metadata": {},
     "output_type": "execute_result"
    }
   ],
   "source": [
    "imgc[0].size()"
   ]
  },
  {
   "cell_type": "code",
   "execution_count": null,
   "id": "e62789e7-14a1-446b-821c-a940a700c095",
   "metadata": {},
   "outputs": [],
   "source": [
    "imgt = convt(imgc[0])"
   ]
  },
  {
   "cell_type": "code",
   "execution_count": null,
   "id": "b763564c-a186-4648-9721-bbf232629edc",
   "metadata": {},
   "outputs": [],
   "source": [
    "imgt = imgt*255"
   ]
  },
  {
   "cell_type": "code",
   "execution_count": null,
   "id": "e19fb2b8-fe57-4994-8143-763c1979a90f",
   "metadata": {},
   "outputs": [],
   "source": [
    "imgt = imgt.int()"
   ]
  },
  {
   "cell_type": "code",
   "execution_count": null,
   "id": "1fe72252-723b-434e-ac39-c1e699935f70",
   "metadata": {},
   "outputs": [],
   "source": [
    "imgt = array(imgt.detach())"
   ]
  },
  {
   "cell_type": "code",
   "execution_count": null,
   "id": "067ca69e-4c58-4ad0-960f-2410176dff43",
   "metadata": {},
   "outputs": [],
   "source": [
    "tim = transforms.ToPILImage()"
   ]
  },
  {
   "cell_type": "code",
   "execution_count": null,
   "id": "689f7548-9050-443c-abb4-80224c9c3301",
   "metadata": {},
   "outputs": [
    {
     "data": {
      "image/png": "[encoded data removed]",
      "text/plain": [
       "<PIL.Image.Image image mode=L size=249x187>"
      ]
     },
     "execution_count": null,
     "metadata": {},
     "output_type": "execute_result"
    }
   ],
   "source": [
    "tim(imgc[0])"
   ]
  },
  {
   "cell_type": "markdown",
   "id": "33259d43-f145-4e0f-956f-7dd1872c4ec5",
   "metadata": {},
   "source": [
    "正常来说用不到这个）"
   ]
  },
  {
   "cell_type": "markdown",
   "id": "d17a64fb-9669-4d76-80d0-847035aac200",
   "metadata": {},
   "source": [
    "# 池化层"
   ]
  },
  {
   "cell_type": "markdown",
   "id": "4827245a-c45e-4c5e-96e6-4a2a65405fc9",
   "metadata": {},
   "source": [
    "## nn.MaxPool1d"
   ]
  },
  {
   "cell_type": "markdown",
   "id": "394593a1-61f7-47c8-94b4-e59c33f5df0c",
   "metadata": {},
   "source": [
    "最大池化"
   ]
  },
  {
   "cell_type": "markdown",
   "id": "2bbd864c-49c3-4b57-9b8f-25cc4e4aa7a7",
   "metadata": {},
   "source": [
    "- kernel_size(int or tuple) - max pooling的窗口大小\n",
    "- stride(int or tuple, optional) - max pooling的窗口移动的步长。默认值是kernel_size\n",
    "- padding(int or tuple, optional) - 输入的每一条边补充0的层数\n",
    "- dilation(int or tuple, optional) – 一个控制窗口中元素步幅的参数\n",
    "- return_indices - 如果等于True，会返回输出最大值的序号，对于上采样操作会有帮助\n",
    "- ceil_mode - 如果等于True，计算输出信号大小的时候，会使用向上取整，代替默认的向下取整的操作"
   ]
  },
  {
   "cell_type": "markdown",
   "id": "3f37f998-30d0-4786-9097-a1130e268f44",
   "metadata": {},
   "source": [
    "## nn.AvgPool1d"
   ]
  },
  {
   "cell_type": "markdown",
   "id": "6992ebfa-db3e-4151-8f7c-0d3024e3f8ab",
   "metadata": {},
   "source": [
    "平均池化"
   ]
  },
  {
   "cell_type": "markdown",
   "id": "80fcac3a-df30-48e7-8bab-d1b5270d09b9",
   "metadata": {},
   "source": [
    "## nn.FractionalMaxPool2d"
   ]
  },
  {
   "cell_type": "markdown",
   "id": "96bf18af-7e9f-472d-825d-8039228a3a23",
   "metadata": {},
   "source": [
    "分数最大化池化"
   ]
  },
  {
   "cell_type": "markdown",
   "id": "59827a87-f241-401a-bbfd-c1a108dc8178",
   "metadata": {},
   "source": [
    "- kernel_size(int or tuple) - 最大池化操作时的窗口大小。可以是一个数字（表示K*K的窗口），也可以是一个元组（kh*kw）\n",
    "- output_size - 输出图像的尺寸。可以使用一个tuple指定(oH,oW)，也可以使用一个数字oH指定一个oH*oH的输出。\n",
    "- output_ratio – 将输入图像的大小的百分比指定为输出图片的大小，使用一个范围在(0,1)之间的数字指定\n",
    "- return_indices - 默认值False，如果设置为True，会返回输出的索引，索引对 nn.MaxUnpool2d有用。"
   ]
  },
  {
   "cell_type": "markdown",
   "id": "15c3f519-4179-4e3b-b40a-56877a1e2bd6",
   "metadata": {},
   "source": [
    "也就是说，它可以对任意大小的东西进行最大池化，并输出相同/相同比例大小的图片"
   ]
  },
  {
   "cell_type": "markdown",
   "id": "88d3e26e-49a5-44f0-b234-f283852184c5",
   "metadata": {},
   "source": [
    "有点像最近邻采样"
   ]
  },
  {
   "cell_type": "markdown",
   "id": "6c45ac4a-4a3c-4e2a-9140-115519d16489",
   "metadata": {},
   "source": [
    "## nn.LPPool2d"
   ]
  },
  {
   "cell_type": "markdown",
   "id": "0c56de92-ff5b-4268-a497-4dea610ac9a3",
   "metadata": {},
   "source": [
    "二维幂平均池化"
   ]
  },
  {
   "cell_type": "markdown",
   "id": "d554bbe5-bae5-4f96-b9a5-f6d844116af2",
   "metadata": {},
   "source": [
    "也就是一个结合了最大池化和平均池化的方法"
   ]
  },
  {
   "cell_type": "markdown",
   "id": "7f85d161-8521-40b3-917d-52832ecc36bd",
   "metadata": {},
   "source": [
    "`m = nn.LPPool2d(p, (3, 2), stride=(2, 1))`  \n",
    "- 当p为无穷大的时候时，等价于最大池化操作\n",
    "- 当p=1时，等价于平均池化操作"
   ]
  },
  {
   "cell_type": "markdown",
   "id": "3f4a7958-1dce-4d41-9d0b-ec592a8a06ad",
   "metadata": {},
   "source": [
    "## nn.AdaptiveMaxPool2d"
   ]
  },
  {
   "cell_type": "markdown",
   "id": "3fea9662-a47e-4dbb-a863-6dab64ed79b5",
   "metadata": {},
   "source": [
    "自适应最大池化"
   ]
  },
  {
   "cell_type": "markdown",
   "id": "cfd2cf16-307e-4b8b-9688-239e89d8247a",
   "metadata": {},
   "source": [
    "- output_size: 输出信号的尺寸,可以用（H,W）表示H*W的输出，也可以使用数字H表示H*H大小的输出\n",
    "- return_indices: 如果设置为True，会返回输出的索引。对 nn.MaxUnpool2d有用，默认值是False"
   ]
  },
  {
   "cell_type": "markdown",
   "id": "9e71c55e-f837-4141-8f94-9dab3d23294f",
   "metadata": {},
   "source": [
    "# Non-Linear Activations 非线性激活函数"
   ]
  },
  {
   "cell_type": "markdown",
   "id": "92052f49-04d8-4513-8f2c-a76419223fe6",
   "metadata": {},
   "source": [
    "激活函数是用来增加网络非线性的"
   ]
  },
  {
   "cell_type": "markdown",
   "id": "96683399-a96d-4c08-ac32-a68da65bca43",
   "metadata": {},
   "source": [
    "常用的有`relu`,`sigmoid`,`softmax`"
   ]
  },
  {
   "cell_type": "markdown",
   "id": "84341912-c759-4106-a1cc-2f3f7ac39210",
   "metadata": {},
   "source": [
    "## torch.nn.ReLU"
   ]
  },
  {
   "cell_type": "markdown",
   "id": "0d1e0ff5-96ad-4af3-abf6-3115f2992af3",
   "metadata": {},
   "source": [
    "线性整流单元(也就是把小于零的变成0）  \n",
    "${ReLU}(x)= max(0, x)$"
   ]
  },
  {
   "cell_type": "code",
   "execution_count": null,
   "id": "079a7418-6803-460e-a768-40cd2bb42ad7",
   "metadata": {},
   "outputs": [
    {
     "data": {
      "image/png": "[encoded data removed]",
      "text/plain": [
       "<Figure size 640x480 with 1 Axes>"
      ]
     },
     "metadata": {},
     "output_type": "display_data"
    }
   ],
   "source": [
    "x = torch.arange(-10, 10)\n",
    "y = nn.ReLU()(x)\n",
    "\n",
    "plt.plot(x, y);"
   ]
  },
  {
   "cell_type": "markdown",
   "id": "260ee993-0c1a-4a2b-9db6-1cb9d4d792c4",
   "metadata": {},
   "source": [
    "## nn.ReLU6"
   ]
  },
  {
   "cell_type": "markdown",
   "id": "087c1540-44b4-4549-93b1-3222f024557d",
   "metadata": {},
   "source": [
    "对输入的每一个元素运用函数  \n",
    "${ReLU6}(x) = min(max(0,x), 6)$"
   ]
  },
  {
   "cell_type": "markdown",
   "id": "64a02258-5fa8-488c-913f-02aef8308045",
   "metadata": {},
   "source": [
    "也就是把小于0的变成0,大于6的变成6"
   ]
  },
  {
   "cell_type": "code",
   "execution_count": null,
   "id": "02518efb-0086-4d49-b9a8-cf5208a78528",
   "metadata": {},
   "outputs": [
    {
     "data": {
      "image/png": "[encoded data removed]",
      "text/plain": [
       "<Figure size 640x480 with 1 Axes>"
      ]
     },
     "metadata": {},
     "output_type": "display_data"
    }
   ],
   "source": [
    "x = torch.arange(-10, 10)\n",
    "y = nn.ReLU6()(x)\n",
    "\n",
    "plt.plot(x, y);"
   ]
  },
  {
   "cell_type": "markdown",
   "id": "ac85b50e-b176-44e1-b84c-c8a67dfec4aa",
   "metadata": {},
   "source": [
    "## nn.ELU"
   ]
  },
  {
   "cell_type": "markdown",
   "id": "eb7b4cd5-0cc8-4934-8d8a-dce679c18c12",
   "metadata": {},
   "source": [
    "对输入的每一个元素运用函数  \n",
    "$f(x) = max(0,x) + min(0, alpha * (e^x - 1))$"
   ]
  },
  {
   "cell_type": "code",
   "execution_count": null,
   "id": "058c7e77-b985-496d-b8a2-9127d22dd86d",
   "metadata": {},
   "outputs": [
    {
     "data": {
      "image/png": "[encoded data removed]",
      "text/plain": [
       "<Figure size 640x480 with 1 Axes>"
      ]
     },
     "metadata": {},
     "output_type": "display_data"
    }
   ],
   "source": [
    "x = torch.linspace(-10, 10, 100)\n",
    "y = nn.ELU(10)(x)\n",
    "\n",
    "plt.plot(x, y);"
   ]
  },
  {
   "cell_type": "markdown",
   "id": "92912656-026c-4a5b-9de2-c249c3e7b5a8",
   "metadata": {},
   "source": [
    "也就是对于0以下的，使用e*\\*x，对于0以上的，使用普通的ReLU"
   ]
  },
  {
   "cell_type": "markdown",
   "id": "b7add0e6-4917-4d50-a5d7-b745850df3d5",
   "metadata": {},
   "source": [
    "## nn.PReLU"
   ]
  },
  {
   "cell_type": "markdown",
   "id": "175cadac-27c2-4a40-9373-d307927501b3",
   "metadata": {},
   "source": [
    "对输入的每一个元素运用函数$PReLU(x) = max(0,x) + a * min(0,x)$\n",
    "\n",
    "a是一个可学习参数。当没有声明时，nn.PReLU()在所有的输入中只有一个参数a；如果是nn.PReLU(nChannels)，a将应用到每个输入。"
   ]
  },
  {
   "cell_type": "markdown",
   "id": "f8367273-57ae-4907-bc94-fa3cfb7ff0d5",
   "metadata": {},
   "source": [
    "- num_parameters=1 -需要学习的a的个数  \n",
    "- init=0.25 -a的默认值"
   ]
  },
  {
   "cell_type": "code",
   "execution_count": null,
   "id": "15582345-2208-416c-a59c-b0fd4c795dd3",
   "metadata": {},
   "outputs": [
    {
     "data": {
      "image/png": "[encoded data removed]",
      "text/plain": [
       "<Figure size 640x480 with 1 Axes>"
      ]
     },
     "metadata": {},
     "output_type": "display_data"
    }
   ],
   "source": [
    "x = torch.linspace(-10, 10, 1000)\n",
    "y = nn.PReLU(num_parameters=1, init=-1)(x).detach().numpy()\n",
    "\n",
    "\n",
    "plt.plot(x, y);"
   ]
  },
  {
   "cell_type": "markdown",
   "id": "2dce3dfc-4e3d-4780-83c6-350b55f87b01",
   "metadata": {},
   "source": [
    "也就是说，这是一个在负值上进行y=ax，正值进行y=x的函数"
   ]
  },
  {
   "cell_type": "markdown",
   "id": "797d7362-f703-4cc0-9a39-50421ea54802",
   "metadata": {},
   "source": [
    "不要对a使用权重衰减"
   ]
  },
  {
   "cell_type": "markdown",
   "id": "7196de8c-f716-437b-a6f3-46e2ee9a8d90",
   "metadata": {},
   "source": [
    "## nn.LeakyReLU"
   ]
  },
  {
   "cell_type": "markdown",
   "id": "f29ad76f-7a96-40ef-a73f-b0b2a6dcb415",
   "metadata": {},
   "source": [
    "- negative_slope：控制负斜率的角度，默认等于0.01\n",
    "- inplace-选择是否进行覆盖运算"
   ]
  },
  {
   "cell_type": "markdown",
   "id": "21987204-7eda-4c58-8181-fe3acc2731f0",
   "metadata": {},
   "source": [
    "对输入的每一个元素运用$f(x) = max(0, x) + {negative_slope} * min(0, x)$"
   ]
  },
  {
   "cell_type": "code",
   "execution_count": null,
   "id": "43a4cff4-1ff1-4c8f-9676-9b698c26dd9b",
   "metadata": {},
   "outputs": [
    {
     "data": {
      "image/png": "[encoded data removed]",
      "text/plain": [
       "<Figure size 640x480 with 1 Axes>"
      ]
     },
     "metadata": {},
     "output_type": "display_data"
    }
   ],
   "source": [
    "x = torch.linspace(-10, 10, 1000)\n",
    "y = nn.LeakyReLU(-1)(x).detach().numpy()\n",
    "\n",
    "\n",
    "plt.plot(x, y);"
   ]
  },
  {
   "cell_type": "markdown",
   "id": "da9e5de6-be42-44c8-920d-b586d973ed81",
   "metadata": {},
   "source": [
    "与PReLU差不多，但是a固定"
   ]
  },
  {
   "cell_type": "markdown",
   "id": "7f4dcc8b-95e3-411f-8953-9e1d10059b92",
   "metadata": {},
   "source": [
    "## nn.Threshold"
   ]
  },
  {
   "cell_type": "markdown",
   "id": "c6b39430-2a38-40c0-9d0e-66c1b170e08b",
   "metadata": {},
   "source": [
    "- threshold：阈值\n",
    "- value：输入值小于阈值则会被value代替\n",
    "- inplace：选择是否进行覆盖运算"
   ]
  },
  {
   "cell_type": "code",
   "execution_count": null,
   "id": "40c7c540-f9fb-4509-a9c4-15ff555bc882",
   "metadata": {},
   "outputs": [
    {
     "data": {
      "image/png": "[encoded data removed]",
      "text/plain": [
       "<Figure size 640x480 with 1 Axes>"
      ]
     },
     "metadata": {},
     "output_type": "display_data"
    }
   ],
   "source": [
    "x = torch.linspace(-10, 10, 1000)\n",
    "y = nn.Threshold(threshold=2, value=3)(x).detach().numpy()\n",
    "\n",
    "\n",
    "plt.plot(x, y);"
   ]
  },
  {
   "cell_type": "markdown",
   "id": "7c7c2258-2f35-401b-9416-e377402a2ac8",
   "metadata": {},
   "source": [
    "相当于ReLU的泛化"
   ]
  },
  {
   "cell_type": "markdown",
   "id": "f6671890-00f4-4c6b-9aae-cc29f1e96270",
   "metadata": {},
   "source": [
    "## nn.Hardtanh"
   ]
  },
  {
   "cell_type": "markdown",
   "id": "54305f7d-fb70-4b53-a8c0-d10ae72e8cd1",
   "metadata": {},
   "source": [
    "- min_val：线性区域范围最小值\n",
    "- max_val：线性区域范围最大值\n",
    "- inplace：选择是否进行覆盖运算"
   ]
  },
  {
   "cell_type": "code",
   "execution_count": null,
   "id": "65c50806-674e-4ede-acd1-bc16d086ebcc",
   "metadata": {},
   "outputs": [
    {
     "data": {
      "image/png": "[encoded data removed]",
      "text/plain": [
       "<Figure size 640x480 with 1 Axes>"
      ]
     },
     "metadata": {},
     "output_type": "display_data"
    }
   ],
   "source": [
    "x = torch.linspace(-10, 10, 1000)\n",
    "y = nn.Hardtanh(min_val=-1, max_val=2)(x).detach().numpy()\n",
    "\n",
    "\n",
    "plt.plot(x, y);"
   ]
  },
  {
   "cell_type": "markdown",
   "id": "b2a2387f-024c-465b-bd38-7fc1dc4e9723",
   "metadata": {},
   "source": [
    "虽然带有`tanh`,但和tan没什么关系。它就相当于`ReLU6`的泛化"
   ]
  },
  {
   "cell_type": "markdown",
   "id": "7a37caf9-fa83-45f8-a58f-9efea795b57d",
   "metadata": {},
   "source": [
    "## nn.Sigmoid "
   ]
  },
  {
   "cell_type": "markdown",
   "id": "5c9ad4fb-3cba-4080-9c9e-ce43c49403e5",
   "metadata": {},
   "source": [
    "$$f ( x ) = 1 / ( 1 + e − x )$$"
   ]
  },
  {
   "cell_type": "code",
   "execution_count": null,
   "id": "e6aa016e-e3c1-46b3-928a-4badec8a34a8",
   "metadata": {},
   "outputs": [
    {
     "data": {
      "image/png": "[encoded data removed]",
      "text/plain": [
       "<Figure size 640x480 with 1 Axes>"
      ]
     },
     "metadata": {},
     "output_type": "display_data"
    }
   ],
   "source": [
    "x = torch.linspace(-10, 10, 1000)\n",
    "y = nn.Sigmoid()(x).detach().numpy()\n",
    "\n",
    "\n",
    "plt.plot(x, y);"
   ]
  },
  {
   "cell_type": "markdown",
   "id": "06985df2-ff95-402b-acae-f72aeb2b251c",
   "metadata": {},
   "source": [
    "## nn.Tanh"
   ]
  },
  {
   "cell_type": "markdown",
   "id": "fb26dce3-bbdb-40ca-ae4f-5d11a05dd9aa",
   "metadata": {},
   "source": [
    "$$f ( x ) = (e^x − e^x) / (e^x + e^x)$$"
   ]
  },
  {
   "cell_type": "code",
   "execution_count": null,
   "id": "458eec0f-b765-4650-9735-d3bd903e34fa",
   "metadata": {},
   "outputs": [
    {
     "data": {
      "image/png": "[encoded data removed]",
      "text/plain": [
       "<Figure size 640x480 with 1 Axes>"
      ]
     },
     "metadata": {},
     "output_type": "display_data"
    }
   ],
   "source": [
    "x = torch.linspace(-10, 10, 1000)\n",
    "y = nn.Tanh()(x).detach().numpy()\n",
    "\n",
    "\n",
    "plt.plot(x, y);"
   ]
  },
  {
   "cell_type": "markdown",
   "id": "6e41a83c-9818-4306-90f6-dac681aa545f",
   "metadata": {},
   "source": [
    "其实和sigmoid挺像的，不过更窄一点"
   ]
  },
  {
   "cell_type": "markdown",
   "id": "edbf6c95-0d50-4b32-b31b-ebb89b4b16df",
   "metadata": {},
   "source": [
    "## nn.LogSigmoid"
   ]
  },
  {
   "cell_type": "markdown",
   "id": "5fb2e601-7287-4d4b-8445-6aea54bf30b5",
   "metadata": {},
   "source": [
    "$$LogSigmoid(x) = log( 1 / ( 1 + e^{-x}))$$"
   ]
  },
  {
   "cell_type": "code",
   "execution_count": null,
   "id": "00848c99-fe01-4866-a621-061c8974df6e",
   "metadata": {},
   "outputs": [
    {
     "data": {
      "image/png": "[encoded data removed]",
      "text/plain": [
       "<Figure size 640x480 with 1 Axes>"
      ]
     },
     "metadata": {},
     "output_type": "display_data"
    }
   ],
   "source": [
    "x = torch.linspace(-10, 10, 1000)\n",
    "y = nn.LogSigmoid()(x).detach().numpy()\n",
    "\n",
    "\n",
    "plt.plot(x, y);"
   ]
  },
  {
   "cell_type": "markdown",
   "id": "eb4a0f99-7a57-425b-9afb-f83bd167aa79",
   "metadata": {},
   "source": [
    "也就是`sigmoid`的对数"
   ]
  },
  {
   "cell_type": "markdown",
   "id": "03b93b01-c2bd-4bf7-9a19-06941cf2b9f7",
   "metadata": {},
   "source": [
    "## nn.Softplus"
   ]
  },
  {
   "cell_type": "markdown",
   "id": "650d3f28-a784-4969-848e-84e943f4fbfb",
   "metadata": {},
   "source": [
    "$$f ( x ) = \\frac{1}{beta}∗log(1+e(beta∗xi))$$"
   ]
  },
  {
   "cell_type": "markdown",
   "id": "4f91392b-49a7-4b2f-a01c-9eef5823f3f1",
   "metadata": {},
   "source": [
    "- beta：Softplus函数的beta值(默认为1)\n",
    "- threshold：阈值(i)(默认为20）"
   ]
  },
  {
   "cell_type": "code",
   "execution_count": null,
   "id": "ea7e33c2-7027-413b-83e8-2f5fa10dd85c",
   "metadata": {},
   "outputs": [
    {
     "data": {
      "image/png": "[encoded data removed]",
      "text/plain": [
       "<Figure size 640x480 with 1 Axes>"
      ]
     },
     "metadata": {},
     "output_type": "display_data"
    }
   ],
   "source": [
    "x = torch.linspace(-10, 10, 1000)\n",
    "y = nn.Softplus(beta=1, threshold=20)(x).detach().numpy()\n",
    "\n",
    "\n",
    "plt.plot(x, y);"
   ]
  },
  {
   "cell_type": "markdown",
   "id": "ff6ea953-1efa-4548-a829-1c79493f2e5d",
   "metadata": {},
   "source": [
    "`Softplus`函数是`ReLU`函数的平滑逼近"
   ]
  },
  {
   "cell_type": "markdown",
   "id": "e02ae2ed-02d9-4961-97d9-fd3ba47f848e",
   "metadata": {},
   "source": [
    "## nn.Softshrink"
   ]
  },
  {
   "cell_type": "markdown",
   "id": "eb0a1f17-4911-43ec-8672-78cd8c04f1e9",
   "metadata": {},
   "source": [
    "$$f ( x ) = x − lambda , if x > lambda f ( x ) = x + lambda , if x < −lambda f(x)=0,otherwise$$"
   ]
  },
  {
   "cell_type": "code",
   "execution_count": null,
   "id": "5ad89280-8124-4a57-b3dd-f075234bdf40",
   "metadata": {},
   "outputs": [
    {
     "data": {
      "image/png": "[encoded data removed]",
      "text/plain": [
       "<Figure size 640x480 with 1 Axes>"
      ]
     },
     "metadata": {},
     "output_type": "display_data"
    }
   ],
   "source": [
    "x = torch.linspace(-10, 10, 1000)\n",
    "y = nn.Softshrink(lambd=6)(x).detach().numpy()\n",
    "\n",
    "\n",
    "plt.plot(x, y);"
   ]
  },
  {
   "cell_type": "markdown",
   "id": "8757a260-2a9f-44da-a281-2d57a1f29a5b",
   "metadata": {},
   "source": [
    "如你所见，中间的台阶大小是12"
   ]
  },
  {
   "cell_type": "markdown",
   "id": "f2a179e6-8222-4e27-bf85-858298c815ef",
   "metadata": {},
   "source": [
    "## nn.Softsign"
   ]
  },
  {
   "cell_type": "markdown",
   "id": "bca43693-cbbb-42e6-a366-a4a32c9149d2",
   "metadata": {},
   "source": [
    "$$f(x) = x / (1 + |x|)$$"
   ]
  },
  {
   "cell_type": "code",
   "execution_count": null,
   "id": "ad1abcfd-732c-4daf-808b-627510e03160",
   "metadata": {},
   "outputs": [
    {
     "data": {
      "image/png": "[encoded data removed]",
      "text/plain": [
       "<Figure size 640x480 with 1 Axes>"
      ]
     },
     "metadata": {},
     "output_type": "display_data"
    }
   ],
   "source": [
    "x = torch.linspace(-100, 100, 1000)\n",
    "y = nn.Softsign()(x).detach().numpy()\n",
    "\n",
    "\n",
    "plt.plot(x, y);"
   ]
  },
  {
   "cell_type": "markdown",
   "id": "a890467a-d93b-40ac-8791-09000fedad43",
   "metadata": {},
   "source": [
    "## nn.Tanhshrink"
   ]
  },
  {
   "cell_type": "markdown",
   "id": "0c40ca58-2847-43f2-96d2-242d837defc2",
   "metadata": {},
   "source": [
    "$$Tanhshrink ( x ) = x − Tanh ( x )$$"
   ]
  },
  {
   "cell_type": "code",
   "execution_count": null,
   "id": "4333ad8c-5846-4551-bfbf-b56c353dfebf",
   "metadata": {},
   "outputs": [
    {
     "data": {
      "image/png": "[encoded data removed]",
      "text/plain": [
       "<Figure size 640x480 with 1 Axes>"
      ]
     },
     "metadata": {},
     "output_type": "display_data"
    }
   ],
   "source": [
    "x = torch.linspace(-10, 10, 1000)\n",
    "y = nn.Tanhshrink()(x).detach().numpy()\n",
    "\n",
    "\n",
    "plt.plot(x, y);"
   ]
  },
  {
   "cell_type": "markdown",
   "id": "f86d7e80-0e54-4475-b5f2-eb7ff8a0f9aa",
   "metadata": {},
   "source": [
    "## nn.Softmin"
   ]
  },
  {
   "cell_type": "markdown",
   "id": "1afc6605-bb94-46b8-8daa-819b11703b49",
   "metadata": {},
   "source": [
    "它对n维输入张量运用Softmin函数，将张量的每个元素缩放到（0,1）区间且和为1。"
   ]
  },
  {
   "cell_type": "code",
   "execution_count": null,
   "id": "db7ace82-4d21-420d-a6b3-d7c6aa311541",
   "metadata": {},
   "outputs": [
    {
     "name": "stdout",
     "output_type": "stream",
     "text": [
      "tensor([[ 0.,  1.,  2.,  3.],\n",
      "        [ 4.,  5.,  6.,  7.],\n",
      "        [ 8.,  9., 10., 11.],\n",
      "        [12., 13., 14., 15.],\n",
      "        [16., 17., 18., 19.]])\n",
      "tensor([[9.8168e-01, 9.8168e-01, 9.8168e-01, 9.8168e-01],\n",
      "        [1.7980e-02, 1.7980e-02, 1.7980e-02, 1.7980e-02],\n",
      "        [3.2932e-04, 3.2932e-04, 3.2932e-04, 3.2932e-04],\n",
      "        [6.0317e-06, 6.0317e-06, 6.0317e-06, 6.0317e-06],\n",
      "        [1.1047e-07, 1.1047e-07, 1.1047e-07, 1.1047e-07]])\n"
     ]
    }
   ],
   "source": [
    "m = nn.Softmin(dim=0)\n",
    "input0 = torch.autograd.Variable(torch.arange(0, 20).reshape(5, 4).float())\n",
    "print(input0)\n",
    "print(m(input0))"
   ]
  },
  {
   "cell_type": "markdown",
   "id": "eb724567-a4d3-4cb6-a3f4-cc0a131b750a",
   "metadata": {},
   "source": [
    "## nn.Softmax"
   ]
  },
  {
   "cell_type": "markdown",
   "id": "ccc9ab35-0b4e-4593-b082-4f486c62ef76",
   "metadata": {},
   "source": [
    "和`Softmin`”相反“"
   ]
  },
  {
   "cell_type": "code",
   "execution_count": null,
   "id": "e293b788-5359-4e3d-ac91-fc89c1644c11",
   "metadata": {},
   "outputs": [
    {
     "name": "stdout",
     "output_type": "stream",
     "text": [
      "tensor([[ 0.,  1.,  2.,  3.],\n",
      "        [ 4.,  5.,  6.,  7.],\n",
      "        [ 8.,  9., 10., 11.],\n",
      "        [12., 13., 14., 15.],\n",
      "        [16., 17., 18., 19.]])\n",
      "tensor([[1.1047e-07, 1.1047e-07, 1.1047e-07, 1.1047e-07],\n",
      "        [6.0317e-06, 6.0317e-06, 6.0317e-06, 6.0317e-06],\n",
      "        [3.2932e-04, 3.2932e-04, 3.2932e-04, 3.2932e-04],\n",
      "        [1.7980e-02, 1.7980e-02, 1.7980e-02, 1.7980e-02],\n",
      "        [9.8168e-01, 9.8168e-01, 9.8168e-01, 9.8168e-01]])\n"
     ]
    }
   ],
   "source": [
    "m = nn.Softmax(dim=0)\n",
    "input0 = torch.autograd.Variable(torch.arange(0, 20).reshape(5, 4).float())\n",
    "print(input0)\n",
    "print(m(input0))"
   ]
  },
  {
   "cell_type": "markdown",
   "id": "ce31b4dd-17ea-4413-98e6-2a4dfb46a24a",
   "metadata": {},
   "source": [
    "## nn.LogSoftmax"
   ]
  },
  {
   "cell_type": "code",
   "execution_count": null,
   "id": "095c9ae5-3860-4f80-9ff9-3b4fedda3654",
   "metadata": {},
   "outputs": [
    {
     "name": "stdout",
     "output_type": "stream",
     "text": [
      "tensor([[ 0.,  1.,  2.,  3.],\n",
      "        [ 4.,  5.,  6.,  7.],\n",
      "        [ 8.,  9., 10., 11.],\n",
      "        [12., 13., 14., 15.],\n",
      "        [16., 17., 18., 19.]])\n",
      "tensor([[-16.0185, -16.0185, -16.0185, -16.0185],\n",
      "        [-12.0185, -12.0185, -12.0185, -12.0185],\n",
      "        [ -8.0185,  -8.0185,  -8.0185,  -8.0185],\n",
      "        [ -4.0185,  -4.0185,  -4.0185,  -4.0185],\n",
      "        [ -0.0185,  -0.0185,  -0.0185,  -0.0185]])\n"
     ]
    }
   ],
   "source": [
    "m = nn.LogSoftmax(dim=0)\n",
    "input0 = torch.autograd.Variable(torch.arange(0, 20).reshape(5, 4).float())\n",
    "print(input0)\n",
    "print(m(input0))"
   ]
  },
  {
   "cell_type": "markdown",
   "id": "f2b8765c-d33c-44f7-bb4d-b7dfb339aecf",
   "metadata": {},
   "source": [
    "# Normalization layers 标准化层"
   ]
  },
  {
   "cell_type": "markdown",
   "id": "31e474f6-960c-41bb-b079-1ab30496cd8c",
   "metadata": {},
   "source": [
    "## nn.BatchNorm2d"
   ]
  },
  {
   "cell_type": "markdown",
   "id": "3d616c9b-ba90-4107-8e30-7cb4f67649ee",
   "metadata": {},
   "source": [
    "*num_features, eps=1e-05, momentum=0.1, affine=True*"
   ]
  },
  {
   "cell_type": "markdown",
   "id": "38f055e7-ae40-42c0-9f87-7c53bb90081d",
   "metadata": {},
   "source": [
    "对小批量(mini-batch)3d数据组成的4d输入进行批标准化(Batch Normalization)操作"
   ]
  },
  {
   "cell_type": "markdown",
   "id": "b07d6079-da69-4c0f-b2fc-0f6ae7325716",
   "metadata": {},
   "source": [
    "- num_features： 来自期望输入的特征数，该期望输入的大小为'batch_size x num_features x height x width'\n",
    "- eps： 为保证数值稳定性（分母不能趋近或取0）,给分母加上的值。默认为1e-5。\n",
    "- momentum： 动态均值和动态方差所使用的动量。默认为0.1。\n",
    "- affine： 一个布尔值，当设为true，给该层添加可学习的仿射变换参数。"
   ]
  },
  {
   "cell_type": "code",
   "execution_count": null,
   "id": "442b6630-a13b-4ba7-a2f6-a0dfdd5b8905",
   "metadata": {},
   "outputs": [],
   "source": [
    "# With Learnable Parameters\n",
    "m = nn.BatchNorm2d(100)"
   ]
  },
  {
   "cell_type": "code",
   "execution_count": null,
   "id": "37ed54d3-6d3d-468e-b31a-94c92bb6aadc",
   "metadata": {},
   "outputs": [],
   "source": [
    "# Without Learnable Parameters\n",
    "m = nn.BatchNorm2d(100, affine=False)"
   ]
  },
  {
   "cell_type": "code",
   "execution_count": null,
   "id": "fadfa1b4-651a-45c7-816c-3bf6b916982a",
   "metadata": {},
   "outputs": [
    {
     "name": "stdout",
     "output_type": "stream",
     "text": [
      "tensor(0.0833) tensor(0.9999, grad_fn=<VarBackward0>)\n",
      "tensor(0.9999, grad_fn=<VarBackward0>) tensor(0.9999, grad_fn=<VarBackward0>)\n"
     ]
    }
   ],
   "source": [
    "input0 = torch.autograd.Variable(torch.rand(20, 100, 35, 45))\n",
    "mean = input0.mean()\n",
    "std = input0.var()\n",
    "print(std, var)\n",
    "input0 = m(input0)\n",
    "mean = input0.mean()\n",
    "std = input0.var()\n",
    "print(std, var)"
   ]
  },
  {
   "cell_type": "markdown",
   "id": "c78f0c1c-48ed-46cb-b80e-9b5acae2d613",
   "metadata": {},
   "source": [
    "也就是把平均值变成1,标准差变成1"
   ]
  },
  {
   "cell_type": "markdown",
   "id": "b7044be9-0281-4496-b07a-dd552f031837",
   "metadata": {},
   "source": [
    "# Recurrent layers 循环层"
   ]
  },
  {
   "cell_type": "markdown",
   "id": "9c931dd8-70da-4dfb-84ef-029012a1624a",
   "metadata": {},
   "source": [
    "恭喜你看到了这里！这里是循环神经网络（RNN）"
   ]
  },
  {
   "cell_type": "markdown",
   "id": "50367a48-0b86-4ff2-9728-0ae908d3e14c",
   "metadata": {},
   "source": [
    "## nn.RNN(args, *kwargs)"
   ]
  },
  {
   "cell_type": "markdown",
   "id": "26826f7c-a45b-4a55-b832-64472706e49e",
   "metadata": {},
   "source": [
    "*这只是一个几层全连接和激活函数组成的简单RNN而已……*  \n",
    "*它是层啊……那没事了*"
   ]
  },
  {
   "cell_type": "markdown",
   "id": "7cd3cf1f-f52e-4111-9bd0-38dfe464aff1",
   "metadata": {},
   "source": [
    "将一个多层的 `Elman RNN`，激活函数为`tanh`或者`ReLU`，用于输入序列。"
   ]
  },
  {
   "cell_type": "markdown",
   "id": "eb8e5909-e841-4e90-826d-a8b17ac05acc",
   "metadata": {},
   "source": [
    "对输入序列中每个元素，RNN每层的计算公式为 $$ h_t=tanh(w_{ih} x_t+b_{ih}+w_{hh} h_{t-1}+b_{hh}) $$ $h_t$是时刻$t$的隐状态。 $x_t$是上一层时刻$t$的隐状态，或者是第一层在时刻$t$的输入。如果nonlinearity='relu',那么将使用relu代替tanh作为激活函数。"
   ]
  },
  {
   "cell_type": "markdown",
   "id": "52cf4006-103b-46aa-82d2-602c61a96e1a",
   "metadata": {},
   "source": [
    "### 参数"
   ]
  },
  {
   "cell_type": "markdown",
   "id": "ae2051b9-f626-4b36-8f9b-217f475c31e9",
   "metadata": {},
   "source": [
    "- input_size – 输入x的特征数量。\n",
    "\n",
    "- hidden_size – 隐层的特征数量。\n",
    "\n",
    "- num_layers – RNN的层数。\n",
    "\n",
    "- nonlinearity – 指定非线性函数使用tanh还是relu。默认是tanh。\n",
    "\n",
    "- bias – 如果是False，那么RNN层就不会使用偏置权重 $b_ih$和$b_hh$,默认是True\n",
    "\n",
    "- batch_first – 如果True的话，那么输入Tensor的shape应该是[batch_size, time_step, feature],输出也是这样。\n",
    "\n",
    "- dropout – 如果值非零，那么除了最后一层外，其它层的输出都会套上一个dropout层。\n",
    "\n",
    "- bidirectional – 如果True，将会变成一个双向RNN，默认为False。"
   ]
  },
  {
   "cell_type": "markdown",
   "id": "020147f2-01d8-4056-ab43-cc996c7f58db",
   "metadata": {},
   "source": [
    "### 输入 (input, h_0)"
   ]
  },
  {
   "cell_type": "markdown",
   "id": "7282b6d6-6d04-49b7-9a3e-33fa14ac161b",
   "metadata": {},
   "source": [
    "input(seq_len, batch, input_size): 保存输入序列特征的`tensor`。\n",
    "\n",
    "`input`可以是被填充的变长的序列。细节请看`torch.nn.utils.rnn.pack_padded_sequence()`"
   ]
  },
  {
   "cell_type": "markdown",
   "id": "fd503326-0deb-4f59-a037-a7b7b11b46f4",
   "metadata": {},
   "source": [
    "- h_0(num_layers * num_directions, batch, hidden_size): 保存着初始隐状态的tensor"
   ]
  },
  {
   "cell_type": "markdown",
   "id": "24b9be63-1458-46b3-a6a3-7973c148400b",
   "metadata": {},
   "source": [
    "### 输出 (output, h_n)"
   ]
  },
  {
   "cell_type": "markdown",
   "id": "e52cb560-1159-45bc-a4b7-72d6b63909a7",
   "metadata": {},
   "source": [
    "- output (seq_len, batch, hidden_size * num_directions): 保存着RNN最后一层的输出特征。如果输入是被填充过的序列，那么输出也是被填充的序列。\n",
    "- h_n (num_layers * num_directions, batch, hidden_size): 保存着最后一个时刻隐状态。"
   ]
  },
  {
   "cell_type": "markdown",
   "id": "a74c89a7-e5c5-458b-a0bc-def3f7385b4a",
   "metadata": {},
   "source": [
    "### 属性"
   ]
  },
  {
   "cell_type": "markdown",
   "id": "0773ccde-2d50-41e4-899c-a441e30ba0a2",
   "metadata": {},
   "source": [
    "- weight_ih_l[k] – 第k层的 input-hidden 权重， 可学习，形状是(input_size x hidden_size)。\n",
    "\n",
    "- weight_hh_l[k] – 第k层的 hidden-hidden 权重， 可学习，形状是(hidden_size x hidden_size)\n",
    "\n",
    "- bias_ih_l[k] – 第k层的 input-hidden 偏置， 可学习，形状是(hidden_size)\n",
    "\n",
    "- bias_hh_l[k] – 第k层的 hidden-hidden 偏置， 可学习，形状是(hidden_size)"
   ]
  },
  {
   "cell_type": "markdown",
   "id": "f1624e39-9e59-4d4d-aa27-3493f5139109",
   "metadata": {},
   "source": [
    "### 示例"
   ]
  },
  {
   "cell_type": "markdown",
   "id": "a731be2e-58d3-4863-999b-704e5e0d478d",
   "metadata": {},
   "source": [
    "建立一个RNN"
   ]
  },
  {
   "cell_type": "code",
   "execution_count": null,
   "id": "0d259841-4d21-45b9-ba4d-0f5ab08b705f",
   "metadata": {},
   "outputs": [],
   "source": [
    "#rnn = nn.RNN(10, 30, 1)"
   ]
  },
  {
   "cell_type": "code",
   "execution_count": null,
   "id": "2f8cc4f4-4a10-46e0-a4ac-01b1532f4b72",
   "metadata": {},
   "outputs": [],
   "source": [
    "rnn = nn.RNN(1, 1, 1)"
   ]
  },
  {
   "cell_type": "markdown",
   "id": "1ec1328b-25e9-4234-a9f3-a24d89de447b",
   "metadata": {},
   "source": [
    "生成假数据：\n",
    "\n",
    "input0为时间序列  \n",
    "h0为第一份输入"
   ]
  },
  {
   "cell_type": "code",
   "execution_count": null,
   "id": "4ade2ab3-7730-4bb6-82e6-727c03f9d547",
   "metadata": {},
   "outputs": [],
   "source": [
    "input0 = Variable(torch.arange(0, 100).reshape(100, 1, -1).float())\n",
    "\n",
    "h0 = input0[0]"
   ]
  },
  {
   "cell_type": "markdown",
   "id": "e1be47b6-0271-4216-86c6-a22ecef8faa5",
   "metadata": {},
   "source": [
    "网络的内容"
   ]
  },
  {
   "cell_type": "code",
   "execution_count": null,
   "id": "a6affc0c-6818-4b85-aa63-34b0c9c1fea5",
   "metadata": {},
   "outputs": [
    {
     "name": "stdout",
     "output_type": "stream",
     "text": [
      "tensor([[0.]])\n",
      "tensor([[0.]])\n",
      "tensor([0.])\n",
      "tensor([0.])\n"
     ]
    }
   ],
   "source": [
    "rnn.zero_grad()\n",
    "for i in rnn.parameters():\n",
    "    print(i.grad)\n",
    "    #i.data.add_(-1, i.grad.data)"
   ]
  },
  {
   "cell_type": "code",
   "execution_count": null,
   "id": "06d7f0ac-196e-4c1f-86d6-2685a55070d0",
   "metadata": {},
   "outputs": [],
   "source": [
    "output, hn = rnn(input0[1], h0)"
   ]
  },
  {
   "cell_type": "code",
   "execution_count": null,
   "id": "ec3a6d83-bd8d-46b1-a643-4c66f17e27ad",
   "metadata": {},
   "outputs": [
    {
     "data": {
      "text/plain": [
       "tensor([[-1.0000]], grad_fn=<SqueezeBackward1>)"
      ]
     },
     "execution_count": null,
     "metadata": {},
     "output_type": "execute_result"
    }
   ],
   "source": [
    "output"
   ]
  },
  {
   "cell_type": "code",
   "execution_count": null,
   "id": "75cdd405-1dda-4975-b334-df6a8eb6eefd",
   "metadata": {},
   "outputs": [
    {
     "data": {
      "text/plain": [
       "tensor([[1.]])"
      ]
     },
     "execution_count": null,
     "metadata": {},
     "output_type": "execute_result"
    }
   ],
   "source": [
    "input0[1]"
   ]
  },
  {
   "cell_type": "code",
   "execution_count": null,
   "id": "e349dad6-b176-46a5-bce7-fb35c5e8e1dd",
   "metadata": {},
   "outputs": [
    {
     "data": {
      "text/plain": [
       "tensor([[-0.4810]], grad_fn=<SqueezeBackward1>)"
      ]
     },
     "execution_count": null,
     "metadata": {},
     "output_type": "execute_result"
    }
   ],
   "source": [
    "hn"
   ]
  },
  {
   "cell_type": "markdown",
   "id": "497a3d2e-4aee-4ed9-9e56-62dfb66c3b14",
   "metadata": {},
   "source": [
    "## nn.LSTM"
   ]
  },
  {
   "cell_type": "markdown",
   "id": "965e6718-6341-4bf9-b585-30c8acb27834",
   "metadata": {},
   "source": [
    "*长短期记忆*"
   ]
  },
  {
   "cell_type": "markdown",
   "id": "9cc38af5-d780-4361-bed9-5c09dad33c30",
   "metadata": {},
   "source": [
    "将一个多层的 (LSTM) 应用到输入序列。\n",
    "\n",
    "对输入序列的每个元素，LSTM的每层都会执行以下计算： \n",
    "\n",
    "$$ \\begin{aligned} i_t &= sigmoid(W_{ii}x_t+b_{ii}+W_{hi}h_{t-1}+b_{hi}) \\ f_t &= sigmoid(W_{if}x_t+b_{if}+W_{hf}h_{t-1}+b_{hf}) \\ o_t &= sigmoid(W_{io}x_t+b_{io}+W_{ho}h_{t-1}+b_{ho})\\ g_t &= tanh(W_{ig}x_t+b_{ig}+W_{hg}h_{t-1}+b_{hg})\\ c_t &= f_tc_{t-1}+i_tg_t\\ h_t &= o_t*tanh(c_t) \\end{aligned} $$ \n",
    "\n",
    "$h_t$是时刻$t$的隐状态,$c_t$是时刻$t$的细胞状态，$x_t$是上一层的在时刻$t$的隐状态或者是第一层在时刻$t$的输入。$i_t, f_t, g_t, o_t$ 分别代表 输入门，遗忘门，细胞和输出门。"
   ]
  },
  {
   "cell_type": "markdown",
   "id": "5bae9af1-c202-4fb4-b44f-8a47f12f46d9",
   "metadata": {},
   "source": [
    "*其实这东西不看也没什么关系的*"
   ]
  },
  {
   "cell_type": "markdown",
   "id": "6eb6f534-c05b-4aed-86a6-6205396e571e",
   "metadata": {},
   "source": [
    "### 参数"
   ]
  },
  {
   "cell_type": "markdown",
   "id": "92812b73-ef04-441e-b3ae-d02f26130e72",
   "metadata": {},
   "source": [
    "- input_size – 输入的特征维度\n",
    "\n",
    "- hidden_size – 隐状态的特征维度\n",
    "\n",
    "- num_layers – 层数（和时序展开要区分开）\n",
    "\n",
    "- bias – 如果为False，那么LSTM将不会使用$b_{ih},b_{hh}$，默认为True。\n",
    "\n",
    "- batch_first – 如果为True，那么输入和输出Tensor的形状为(batch, seq, feature)\n",
    "\n",
    "- dropout – 如果非零的话，将会在RNN的输出上加个dropout，最后一层除外。\n",
    "\n",
    "- bidirectional – 如果为True，将会变成一个双向RNN，默认为False。"
   ]
  },
  {
   "cell_type": "markdown",
   "id": "da34c73c-4245-4a63-9648-8a840fa83dce",
   "metadata": {},
   "source": [
    "### 输入: input, (h_0, c_0)"
   ]
  },
  {
   "cell_type": "markdown",
   "id": "babc3606-8b4d-4843-b5e7-114cbcc73c4c",
   "metadata": {},
   "source": [
    "- input (seq_len, batch, input_size): 包含输入序列特征的Tensor。也可以是packed variable。\n",
    "\n",
    "- h_0 (num_layers * num_directions, batch, hidden_size):保存着batch中每个元素的初始化隐状态的Tensor\n",
    "\n",
    "- c_0 (num_layers * num_directions, batch, hidden_size): 保存着batch中每个元素的初始化细胞状态的Tensor"
   ]
  },
  {
   "cell_type": "markdown",
   "id": "151fb9b5-db2b-4b81-9636-563deddfa03c",
   "metadata": {},
   "source": [
    "### 输出:output, (h_n, c_n)"
   ]
  },
  {
   "cell_type": "markdown",
   "id": "a9356444-3e6c-4044-93c9-13e8e913445b",
   "metadata": {},
   "source": [
    "- output (seq_len, batch, hidden_size * num_directions): 保存RNN最后一层的输出的Tensor。 如果输入是torch.nn.utils.rnn.PackedSequence，那么输出也是torch.nn.utils.rnn.PackedSequence。\n",
    "\n",
    "- h_n (num_layers * num_directions, batch, hidden_size): Tensor，保存着RNN最后一个时间步的隐状态。\n",
    "\n",
    "- c_n (num_layers * num_directions, batch, hidden_size): Tensor，保存着RNN最后一个时间步的细胞状态。"
   ]
  },
  {
   "cell_type": "markdown",
   "id": "b6f73f73-7e06-46b0-b491-8c403a28d5db",
   "metadata": {},
   "source": [
    "### 属性"
   ]
  },
  {
   "cell_type": "markdown",
   "id": "65df08ab-d412-410a-ae6b-25c8eaa3c09c",
   "metadata": {},
   "source": [
    "- weight_ih_l[k] – 第k层可学习的input-hidden权重($W_{ii}|W_{if}|W_{ig}|W_{io}$)，形状为(input_size x 4*hidden_size)\n",
    "\n",
    "- weight_hh_l[k] – 第k层可学习的hidden-hidden权重($W_{hi}|W_{hf}|W_{hg}|W_{ho}$)，形状为(hidden_size x 4*hidden_size)。\n",
    "\n",
    "- bias_ih_l[k] – 第k层可学习的input-hidden偏置($b_{ii}|b_{if}|b_{ig}|b_{io}$)，形状为( 4*hidden_size)\n",
    "\n",
    "- bias_hh_l[k] – 第k层可学习的hidden-hidden偏置($b_{hi}|b_{hf}|b_{hg}|b_{ho}$)，形状为( 4*hidden_size)。"
   ]
  },
  {
   "cell_type": "code",
   "execution_count": null,
   "id": "e91d2ef8-00aa-4be1-ab9e-06a0cc478c5f",
   "metadata": {},
   "outputs": [],
   "source": [
    "lstm = nn.LSTM(10, 20, 2)\n",
    "input0 = Variable(torch.randn(5, 3, 10))\n",
    "h0 = Variable(torch.randn(2, 3, 20))\n",
    "c0 = Variable(torch.randn(2, 3, 20))\n",
    "output, hn = lstm(input0, (h0, c0))"
   ]
  },
  {
   "cell_type": "code",
   "execution_count": null,
   "id": "917f0c34-7b48-4e1f-9bb4-810c000f9aab",
   "metadata": {},
   "outputs": [
    {
     "data": {
      "text/plain": [
       "torch.Size([5, 3, 20])"
      ]
     },
     "execution_count": null,
     "metadata": {},
     "output_type": "execute_result"
    }
   ],
   "source": [
    "output.size()"
   ]
  },
  {
   "cell_type": "code",
   "execution_count": null,
   "id": "7248f584-215a-4768-80dc-a33db9e4cadb",
   "metadata": {},
   "outputs": [
    {
     "data": {
      "text/plain": [
       "torch.Size([2, 3, 20])"
      ]
     },
     "execution_count": null,
     "metadata": {},
     "output_type": "execute_result"
    }
   ],
   "source": [
    "hn[0].size()"
   ]
  },
  {
   "cell_type": "markdown",
   "id": "49649e62-c4d1-41c4-85f7-6753ce2df5ec",
   "metadata": {},
   "source": [
    "## nn.GRU"
   ]
  },
  {
   "cell_type": "markdown",
   "id": "b14b24a0-686f-4ed9-b366-9fda54aaf332",
   "metadata": {},
   "source": [
    "*与LSTM相比，GRU内部少了一个”门控“，参数比LSTM少，但是却也能够达到与LSTM相当的功能。*"
   ]
  },
  {
   "cell_type": "markdown",
   "id": "8fe771b5-09e1-4535-a0fe-1bd11c311f88",
   "metadata": {},
   "source": [
    "将一个多层的GRU用于输入序列。"
   ]
  },
  {
   "cell_type": "markdown",
   "id": "23ec2b93-99af-41f8-8d52-b3a992d20e5d",
   "metadata": {},
   "source": [
    "对输入序列中的每个元素，每层进行了一下计算：\n",
    "\n",
    "$$ \\begin{aligned} r_t&=sigmoid(W_{ir}x_t+b_{ir}+W_{hr}h_{(t-1)}+b_{hr})\\ i_t&=sigmoid(W_{ii}x_t+b_{ii}+W_{hi}h_{(t-1)}+b_{hi})\\ n_t&=tanh(W_{in}x_t+b_{in}+rt(W_{hn}h_{(t-1)}+b_{hn}))\\ h_t&=(1-i_t) nt+i_t*h(t-1) \\end{aligned} $$ $h_t$是是时间$t$的上的隐状态，$x_t$是前一层$t$时刻的隐状态或者是第一层的$t$时刻的输入，$r_t, i_t, n_t$分别是重置门，输入门和新门。"
   ]
  },
  {
   "cell_type": "markdown",
   "id": "706aa7bf-7f5d-4cdb-9585-057bbaa4f4af",
   "metadata": {},
   "source": [
    "### 示例："
   ]
  },
  {
   "cell_type": "code",
   "execution_count": null,
   "id": "5a2213d5-8d12-4c16-9f65-adbf6dcbee20",
   "metadata": {},
   "outputs": [],
   "source": [
    "rnn = nn.GRU(10, 20, 2)\n",
    "input0 = Variable(torch.randn(5, 3, 10))\n",
    "h0 = Variable(torch.randn(2, 3, 20))\n",
    "output, hn = rnn(input0, h0)"
   ]
  },
  {
   "cell_type": "code",
   "execution_count": null,
   "id": "d835503f-b655-455a-be5e-8c8ed4db6439",
   "metadata": {},
   "outputs": [
    {
     "data": {
      "text/plain": [
       "torch.Size([5, 3, 20])"
      ]
     },
     "execution_count": null,
     "metadata": {},
     "output_type": "execute_result"
    }
   ],
   "source": [
    "output.size()"
   ]
  },
  {
   "cell_type": "code",
   "execution_count": null,
   "id": "f24f9927-0164-4323-b161-41b2868a18f4",
   "metadata": {},
   "outputs": [
    {
     "data": {
      "text/plain": [
       "torch.Size([2, 3, 20])"
      ]
     },
     "execution_count": null,
     "metadata": {},
     "output_type": "execute_result"
    }
   ],
   "source": [
    "hn.size()"
   ]
  },
  {
   "cell_type": "markdown",
   "id": "e64c6c9f-7718-48e2-b3dc-14a2438df014",
   "metadata": {},
   "source": [
    "## nn.RNNCell"
   ]
  },
  {
   "cell_type": "markdown",
   "id": "581244ac-072b-456f-8b49-aa0c0a09e02a",
   "metadata": {},
   "source": [
    "将一个多层的 `Elman RNNCell`，激活函数为`tanh`或者`ReLU`，应用于输入序列。公式： $$ h'=tanh(w_{ih} x+b_{ih}+w_{hh} h+b_{hh}) $$ 如果nonlinearity=relu，那么将会使用ReLU来代替tanh。"
   ]
  },
  {
   "cell_type": "markdown",
   "id": "38314451-5e8f-49a8-83b8-8c7ac2ba895a",
   "metadata": {},
   "source": [
    "### 参数"
   ]
  },
  {
   "cell_type": "markdown",
   "id": "30e3cf31-9551-4df1-9a66-751f66bf486f",
   "metadata": {},
   "source": [
    "- input_size – 输入$x$，特征的维度。\n",
    "\n",
    "- hidden_size – 隐状态特征的维度。\n",
    "\n",
    "- bias – 如果为False，RNN cell中将不会加入bias，默认为True。\n",
    "\n",
    "- nonlinearity – 用于选择非线性激活函数 [tanh|relu]. 默认值为： tanh"
   ]
  },
  {
   "cell_type": "markdown",
   "id": "31d6652a-b48c-4090-84da-0cbc87e35bdd",
   "metadata": {},
   "source": [
    "### 输入： input, hidden"
   ]
  },
  {
   "cell_type": "markdown",
   "id": "3fb65143-ce82-489b-afe3-f0f88b136537",
   "metadata": {},
   "source": [
    "- input (batch, input_size): 包含输入特征的tensor。\n",
    "\n",
    "- hidden (batch, hidden_size): 保存着初始隐状态值的tensor。"
   ]
  },
  {
   "cell_type": "markdown",
   "id": "3398d3fa-d2f7-427a-a16e-22ebdf289909",
   "metadata": {},
   "source": [
    "### 输出： h’"
   ]
  },
  {
   "cell_type": "markdown",
   "id": "211ac538-7a33-4ec2-bc46-147675f5e884",
   "metadata": {},
   "source": [
    "- h’ (batch, hidden_size):下一个时刻的隐状态。"
   ]
  },
  {
   "cell_type": "markdown",
   "id": "39629a84-e471-4377-b386-0235e1ce49e7",
   "metadata": {},
   "source": [
    "### 属性："
   ]
  },
  {
   "cell_type": "markdown",
   "id": "c24cca8f-ef2a-4214-b2f0-db89034bbdc1",
   "metadata": {},
   "source": [
    "- weight_ih – input-hidden 权重， 可学习，形状是(input_size x hidden_size)。\n",
    "\n",
    "- weight_hh – hidden-hidden 权重， 可学习，形状是(hidden_size x hidden_size)\n",
    "\n",
    "- bias_ih – input-hidden 偏置， 可学习，形状是(hidden_size)\n",
    "\n",
    "- bias_hh – hidden-hidden 偏置， 可学习，形状是(hidden_size)"
   ]
  },
  {
   "cell_type": "markdown",
   "id": "95ff5fec-0a03-49f1-9788-2d7eee6aa0aa",
   "metadata": {},
   "source": [
    "### 示例"
   ]
  },
  {
   "cell_type": "markdown",
   "id": "274313e0-2488-4367-a5f1-b0161dcdf579",
   "metadata": {},
   "source": [
    "初始化一个（10,20）的rnncell（类似全连接层）"
   ]
  },
  {
   "cell_type": "code",
   "execution_count": null,
   "id": "fb5e70ce-2bb2-43e7-90cf-937da34f400e",
   "metadata": {},
   "outputs": [],
   "source": [
    "rnn = nn.RNNCell(10, 20)"
   ]
  },
  {
   "cell_type": "markdown",
   "id": "af41ef3f-2745-460f-8cee-9b8af81e432a",
   "metadata": {},
   "source": [
    "生成随机数据"
   ]
  },
  {
   "cell_type": "code",
   "execution_count": null,
   "id": "b6f64cd3-9510-4a62-9c7a-95e1591c0c74",
   "metadata": {},
   "outputs": [],
   "source": [
    "input0 = Variable(torch.randn(6, 3, 10))\n",
    "hx = Variable(torch.randn(3, 20))\n",
    "output = []"
   ]
  },
  {
   "cell_type": "markdown",
   "id": "e9895039-29a8-4464-b5e0-2faad93bfba4",
   "metadata": {},
   "source": [
    "进行预测"
   ]
  },
  {
   "cell_type": "code",
   "execution_count": null,
   "id": "8fb7fabe-b2a2-468a-b8f9-9a7a8b7ce8b4",
   "metadata": {},
   "outputs": [],
   "source": [
    "for i in range(6):\n",
    "    hx = rnn(input0[i], hx)\n",
    "    output.append(hx)"
   ]
  },
  {
   "cell_type": "code",
   "execution_count": null,
   "id": "577eabac-43ae-4075-8a2d-c3b0b71ac832",
   "metadata": {},
   "outputs": [
    {
     "data": {
      "text/plain": [
       "6"
      ]
     },
     "execution_count": null,
     "metadata": {},
     "output_type": "execute_result"
    }
   ],
   "source": [
    "len(output)"
   ]
  },
  {
   "cell_type": "markdown",
   "id": "1cff1644-ea96-442c-bf03-b237764cb39b",
   "metadata": {},
   "source": [
    "## nn.LSTMCell"
   ]
  },
  {
   "cell_type": "markdown",
   "id": "68788b05-d9c5-4842-8045-975af33dc5bc",
   "metadata": {},
   "source": [
    "公式："
   ]
  },
  {
   "cell_type": "markdown",
   "id": "dc2fa690-8818-4ab5-8433-b462b0e061a6",
   "metadata": {},
   "source": [
    "$$ \\begin{aligned} i &= sigmoid(W_{ii}x+b_{ii}+W_{hi}h+b_{hi}) \\ f &= sigmoid(W_{if}x+b_{if}+W_{hf}h+b_{hf}) \\ o &= sigmoid(W_{io}x+b_{io}+W_{ho}h+b_{ho})\\ g &= tanh(W_{ig}x+b_{ig}+W_{hg}h+b_{hg})\\ c' &= f_tc_{t-1}+i_tg_t\\ h' &= o_t*tanh(c') \\end{aligned} $$"
   ]
  },
  {
   "cell_type": "markdown",
   "id": "dd6123c2-5b82-4d22-a555-33ec28605cd9",
   "metadata": {},
   "source": [
    "### 参数"
   ]
  },
  {
   "cell_type": "markdown",
   "id": "cdc1ccd4-f26f-477c-b349-7c07086ce01f",
   "metadata": {},
   "source": [
    "- input_size – 输入的特征维度。\n",
    "- hdden_size – 隐状态的维度。\n",
    "- bias – 如果为False，那么将不会使用bias。默认为True。"
   ]
  },
  {
   "cell_type": "markdown",
   "id": "0211ad6d-09ec-45a1-ab1e-2162e92a7e9a",
   "metadata": {},
   "source": [
    "### 输入: input, (h_0, c_0)"
   ]
  },
  {
   "cell_type": "markdown",
   "id": "36c47ad7-608b-4d4e-8491-5d8cf1d07a9c",
   "metadata": {},
   "source": [
    "- input (seq_len, batch, input_size): 包含输入序列特征的Tensor。也可以是packed variable\n",
    "\n",
    "- h_0 ( batch, hidden_size):保存着batch中每个元素的初始化隐状态的Tensor\n",
    "\n",
    "- c_0 (batch, hidden_size): 保存着batch中每个元素的初始化细胞状态的Tensor"
   ]
  },
  {
   "cell_type": "markdown",
   "id": "c59d4622-c7c3-44d8-888c-529670997b94",
   "metadata": {},
   "source": [
    "### 输出： h_1, c_1"
   ]
  },
  {
   "cell_type": "markdown",
   "id": "a6c17a63-7d35-4baa-8df4-98ade4a7e777",
   "metadata": {},
   "source": [
    "- h_1 (batch, hidden_size): 下一个时刻的隐状态。\n",
    "- c_1 (batch, hidden_size): 下一个时刻的细胞状态。"
   ]
  },
  {
   "cell_type": "markdown",
   "id": "6b2fe41a-f7cc-404d-9a30-64ed88f7ff71",
   "metadata": {},
   "source": [
    "### 属性:"
   ]
  },
  {
   "cell_type": "markdown",
   "id": "a6193cd5-d5bc-4807-b1e1-55a069ce08c5",
   "metadata": {},
   "source": [
    "- weight_ih – input-hidden权重($W_{ii}|W_{if}|W_{ig}|W_{io}$)，形状为(input_size x 4*hidden_size)\n",
    "\n",
    "- weight_hh – hidden-hidden权重($W_{hi}|W_{hf}|W_{hg}|W_{ho}$)，形状为(hidden_size x 4*hidden_size)。\n",
    "\n",
    "- bias_ih – input-hidden偏置($b_{ii}|b_{if}|b_{ig}|b_{io}$)，形状为( 4*hidden_size)\n",
    "\n",
    "- bias_hh – hidden-hidden偏置($b_{hi}|b_{hf}|b_{hg}|b_{ho}$)，形状为( 4*hidden_size)。"
   ]
  },
  {
   "cell_type": "markdown",
   "id": "56cbcfcf-cb9d-4aea-93f2-a59f6d1b9d92",
   "metadata": {},
   "source": [
    "### 例子"
   ]
  },
  {
   "cell_type": "code",
   "execution_count": null,
   "id": "2e8ab516-2fef-44d0-9b05-8f7ef2c1be96",
   "metadata": {},
   "outputs": [],
   "source": [
    "rnn = nn.LSTMCell(10, 20)\n",
    "input0 = Variable(torch.randn(6, 3, 10))\n",
    "hx = Variable(torch.randn(3, 20))\n",
    "cx = Variable(torch.randn(3, 20))\n",
    "output = []\n",
    "for i in range(6):\n",
    "    hx, cx = rnn(input0[i], (hx, cx))\n",
    "    output.append(hx)"
   ]
  },
  {
   "cell_type": "markdown",
   "id": "1e564736-8ded-43dd-8587-6a79491a75f8",
   "metadata": {},
   "source": [
    "## nn.GRUCell"
   ]
  },
  {
   "cell_type": "markdown",
   "id": "12f1cc46-b94c-45f9-863b-3d210521b1d5",
   "metadata": {},
   "source": [
    "同上"
   ]
  },
  {
   "cell_type": "code",
   "execution_count": null,
   "id": "7e3f7fa9-95f2-43a2-9706-eefd81b17ea2",
   "metadata": {},
   "outputs": [],
   "source": [
    "rnn = nn.GRUCell(10, 20)\n",
    "input0 = Variable(torch.randn(6, 3, 10))\n",
    "hx = Variable(torch.randn(3, 20))\n",
    "output = []\n",
    "for i in range(6):\n",
    "    hx = rnn(input0[i], hx)\n",
    "    output.append(hx)"
   ]
  },
  {
   "cell_type": "markdown",
   "id": "3dab721e-f7b8-47a1-9f0d-a11a5033322a",
   "metadata": {},
   "source": [
    "# Linear layers 线性层"
   ]
  },
  {
   "cell_type": "markdown",
   "id": "a7f3637b-45d6-43fd-8386-7a28502b955d",
   "metadata": {},
   "source": [
    "## nn.Linear(in_features, out_features, bias=True)"
   ]
  },
  {
   "cell_type": "markdown",
   "id": "2df8d092-2cd1-44a7-beb2-01d0581ee5cb",
   "metadata": {},
   "source": [
    "对输入数据做线性变换：$y = Ax + b$"
   ]
  },
  {
   "cell_type": "markdown",
   "id": "2f461818-1b40-475d-bdde-95898271d3f1",
   "metadata": {},
   "source": [
    "### 参数："
   ]
  },
  {
   "cell_type": "markdown",
   "id": "2fb5ac19-a658-43d1-9612-42b73da9bc5a",
   "metadata": {},
   "source": [
    "- in_features - 每个输入样本的大小\n",
    "- out_features - 每个输出样本的大小\n",
    "- bias - 若设置为False，这层不会学习偏置。默认值：True"
   ]
  },
  {
   "cell_type": "markdown",
   "id": "7ee35804-4bbe-4a30-aa3e-84ad21b1fc60",
   "metadata": {},
   "source": [
    "### 形状："
   ]
  },
  {
   "cell_type": "markdown",
   "id": "a1b83aed-f094-4530-bfa9-900b8e15f2c1",
   "metadata": {},
   "source": [
    "- 输入: (N,in_features)\n",
    "- 输出： (N,out_features)"
   ]
  },
  {
   "cell_type": "markdown",
   "id": "e97c721e-4aa9-4b13-93d3-3951a9d5663e",
   "metadata": {},
   "source": [
    "### 属性："
   ]
  },
  {
   "cell_type": "markdown",
   "id": "c1fbf2ac-503d-4732-97d5-195a2cc55183",
   "metadata": {},
   "source": [
    "- weight -形状为(out_features x in_features)的模块中可学习的权值\n",
    "- bias -形状为(out_features)的模块中可学习的偏置"
   ]
  },
  {
   "cell_type": "code",
   "execution_count": null,
   "id": "d6c31c2f-f6a8-4562-8357-affbf30c7c10",
   "metadata": {},
   "outputs": [
    {
     "name": "stdout",
     "output_type": "stream",
     "text": [
      "torch.Size([128, 30])\n"
     ]
    }
   ],
   "source": [
    "m = nn.Linear(20, 30)\n",
    "input0 = torch.autograd.Variable(torch.randn(128, 20))\n",
    "output = m(input0)\n",
    "print(output.size())"
   ]
  },
  {
   "cell_type": "code",
   "execution_count": null,
   "id": "9c82c35c-ed78-4d0e-8192-e1283059a489",
   "metadata": {},
   "outputs": [],
   "source": []
  },
  {
   "cell_type": "markdown",
   "id": "509279ca-6a0c-46fd-b470-e9311f369706",
   "metadata": {},
   "source": [
    "# Dropout layers 丢弃层"
   ]
  },
  {
   "cell_type": "markdown",
   "id": "4e10e33b-24dd-4eaf-be6f-d394382ce664",
   "metadata": {},
   "source": [
    "## nn.Dropout / nn.Dropout2d,3d"
   ]
  },
  {
   "cell_type": "markdown",
   "id": "38fc0ded-5d53-4f5c-856d-6a6fc97c3c65",
   "metadata": {},
   "source": [
    "随机将输入张量中部分元素设置为0。对于每次前向调用，被置0的元素都是随机的。"
   ]
  },
  {
   "cell_type": "markdown",
   "id": "ddb3bd03-3d74-461c-9522-b92981250013",
   "metadata": {},
   "source": [
    "### 参数："
   ]
  },
  {
   "cell_type": "markdown",
   "id": "1ed10bdc-07ed-4def-a5b3-9b9d7023c3b1",
   "metadata": {},
   "source": [
    "- p - 将元素置0的概率。默认值：0.5\n",
    "- in-place - 若设置为True，会在原地执行操作。默认值：False"
   ]
  },
  {
   "cell_type": "markdown",
   "id": "b808d6fe-1d73-4486-8c87-3114cc428b74",
   "metadata": {},
   "source": [
    "### 形状："
   ]
  },
  {
   "cell_type": "markdown",
   "id": "56b7bdd9-39fd-4b7e-95c5-f39e7fe88abf",
   "metadata": {},
   "source": [
    "- 输入： 任意。输入可以为任意形状。\n",
    "- 输出： 相同。输出和输入形状相同。"
   ]
  },
  {
   "cell_type": "markdown",
   "id": "db1871da-984a-4c36-87b4-ff0f59f379c1",
   "metadata": {},
   "source": [
    "### 例子："
   ]
  },
  {
   "cell_type": "code",
   "execution_count": null,
   "id": "a467440d-4bfa-49fc-b5e6-224eca71a9bb",
   "metadata": {},
   "outputs": [],
   "source": [
    "m = nn.Dropout(p=0.2)\n",
    "input0 = torch.autograd.Variable(torch.randn(20, 16))\n",
    "output = m(input0)"
   ]
  },
  {
   "cell_type": "code",
   "execution_count": null,
   "id": "d47d5790-07cf-42d6-adf5-974a540a63d1",
   "metadata": {},
   "outputs": [
    {
     "data": {
      "text/plain": [
       "tensor(46)"
      ]
     },
     "execution_count": null,
     "metadata": {},
     "output_type": "execute_result"
    }
   ],
   "source": [
    "input0.count_nonzero()-output.count_nonzero()"
   ]
  },
  {
   "cell_type": "markdown",
   "id": "ecd7dcf6-7f75-466c-88bc-96ab2a947629",
   "metadata": {},
   "source": [
    "# Sparse layers 稀疏层（？）词向量产生层（！）"
   ]
  },
  {
   "cell_type": "markdown",
   "id": "76f50764-fe69-449e-8139-a45fa926565e",
   "metadata": {},
   "source": [
    "### nn.Embedding"
   ]
  },
  {
   "cell_type": "markdown",
   "id": "b88e8de2-ea4e-488b-b841-d8afd0bcc3ae",
   "metadata": {},
   "source": [
    "一个保存了固定字典和大小的简单查找表。\n",
    "\n",
    "这个模块常用来保存词嵌入和用下标检索它们。模块的输入是一个下标的列表，输出是对应的词嵌入。"
   ]
  },
  {
   "cell_type": "markdown",
   "id": "e71384eb-3685-43ce-8160-91fcaf0e7a93",
   "metadata": {},
   "source": [
    "### 参数："
   ]
  },
  {
   "cell_type": "markdown",
   "id": "42a30c66-ed1f-420c-94e7-77139a260fc8",
   "metadata": {},
   "source": [
    "- num_embeddings (int) - 嵌入字典的大小\n",
    "- embedding_dim (int) - 每个嵌入向量的大小\n",
    "- padding_idx (int, optional) - 如果提供的话，输出遇到此下标时用零填充\n",
    "- max_norm (float, optional) - 如果提供的话，会重新归一化词嵌入，使它们的范数小于提供的值\n",
    "- norm_type (float, optional) - 对于max_norm选项计算p范数时的p\n",
    "- scale_grad_by_freq (boolean, optional) - 如果提供的话，会根据字典中单词频率缩放梯度"
   ]
  },
  {
   "cell_type": "markdown",
   "id": "c2ee9219-4966-4c8f-94ae-a07cdbb0193a",
   "metadata": {},
   "source": [
    "### 属性："
   ]
  },
  {
   "cell_type": "markdown",
   "id": "ee035b19-e336-4038-a251-1a12d9c18a0f",
   "metadata": {},
   "source": [
    "- weight (Tensor) -形状为(num_embeddings, embedding_dim)的模块中可学习的权值"
   ]
  },
  {
   "cell_type": "markdown",
   "id": "feddcd32-5c81-479e-8953-bcd5f95556e4",
   "metadata": {},
   "source": [
    "### 输入： LongTensor (N, W), "
   ]
  },
  {
   "cell_type": "markdown",
   "id": "c54a3712-ffbd-4d4f-ac0a-bdb8bfb08f03",
   "metadata": {},
   "source": [
    "- N = mini-batch, \n",
    "- W = 每个mini-batch中提取的下标数"
   ]
  },
  {
   "cell_type": "markdown",
   "id": "34fecc4d-2d62-4a24-b994-ddd93494dc13",
   "metadata": {},
   "source": [
    "### 输出： (N, W, embedding_dim)"
   ]
  },
  {
   "cell_type": "markdown",
   "id": "3650d1ea-7b0e-46dc-8d74-3fcdf52ed513",
   "metadata": {},
   "source": [
    "### 示例"
   ]
  },
  {
   "cell_type": "code",
   "execution_count": null,
   "id": "cf532845-9fb7-4773-886a-8204ee0fa0d5",
   "metadata": {},
   "outputs": [
    {
     "data": {
      "text/plain": [
       "tensor([[[-1.3053,  1.2748,  0.5904],\n",
       "         [-1.3053,  1.2748,  0.5904],\n",
       "         [-1.3053,  1.2748,  0.5904],\n",
       "         [-1.3053,  1.2748,  0.5904],\n",
       "         [ 1.7692, -1.4968, -1.1010]],\n",
       "\n",
       "        [[-0.3840,  0.3105,  1.5848],\n",
       "         [ 1.7692, -1.4968, -1.1010],\n",
       "         [ 0.3168, -0.3723,  0.9616],\n",
       "         [ 0.3168, -0.3723,  0.9616],\n",
       "         [ 0.3168, -0.3723,  0.9616]]], grad_fn=<EmbeddingBackward0>)"
      ]
     },
     "execution_count": null,
     "metadata": {},
     "output_type": "execute_result"
    }
   ],
   "source": [
    "# an Embedding module containing 10 tensors of size 3\n",
    "embedding = nn.Embedding(5, 3)\n",
    "# a batch of 2 samples of 4 indices each\n",
    "input0 = Variable(torch.LongTensor([[1, 1, 1, 1, 3], [4, 3, 2, 2, 2]]))\n",
    "embedding(input0)"
   ]
  },
  {
   "cell_type": "code",
   "execution_count": null,
   "id": "b34fad7a-f951-4672-bbd4-afca1078659d",
   "metadata": {},
   "outputs": [
    {
     "data": {
      "text/plain": [
       "tensor([[[ 0.0000,  0.0000,  0.0000],\n",
       "         [ 0.4923, -0.1930, -1.2295],\n",
       "         [ 0.0000,  0.0000,  0.0000],\n",
       "         [-0.4291,  0.7431, -0.2245]]], grad_fn=<EmbeddingBackward0>)"
      ]
     },
     "execution_count": null,
     "metadata": {},
     "output_type": "execute_result"
    }
   ],
   "source": [
    "# example with padding_idx\n",
    "embedding = nn.Embedding(6, 3, padding_idx=0)\n",
    "input = Variable(torch.LongTensor([[0, 2, 0, 5]]))#由于这里最大的是5,所以它认为你有至少六个词\n",
    "embedding(input)"
   ]
  },
  {
   "cell_type": "markdown",
   "id": "5773e3cf-bfa5-4590-9a0e-3a4a122a8b59",
   "metadata": {},
   "source": [
    "嵌入的字典尺寸……怎么计算的？"
   ]
  },
  {
   "cell_type": "markdown",
   "id": "719bc39f-3aab-455d-b822-e3c07654b64d",
   "metadata": {},
   "source": [
    "就是单词的总和……并且它以你最大的那个数而不是类别数发出错误"
   ]
  },
  {
   "cell_type": "markdown",
   "id": "2f574762-f817-46f8-90d7-6b7caba42a4e",
   "metadata": {},
   "source": [
    "# Distance functions"
   ]
  },
  {
   "cell_type": "markdown",
   "id": "4dd99e1d-cb45-4f75-b0ac-fb0d55c129f7",
   "metadata": {},
   "source": [
    "## nn.PairwiseDistance(p=2, eps=1e-06)"
   ]
  },
  {
   "cell_type": "markdown",
   "id": "b9f5741f-a8a8-4105-abac-73c222df1681",
   "metadata": {},
   "source": [
    "按批计算向量v1, v2之间的距离："
   ]
  },
  {
   "cell_type": "markdown",
   "id": "913d7fe3-7a40-43ff-956d-5bff64ea9bf7",
   "metadata": {},
   "source": [
    "### 参数："
   ]
  },
  {
   "cell_type": "markdown",
   "id": "68e0d82e-d0a1-42ac-b988-a3a8af7d2563",
   "metadata": {},
   "source": [
    "- x (Tensor): 包含两个输入batch的张量\n",
    "- p (real): 范数次数，默认值：2"
   ]
  },
  {
   "cell_type": "markdown",
   "id": "bf96ee78-cb16-4e83-b80b-f611ab3539c4",
   "metadata": {},
   "source": [
    "### 输入： (N,D)，其中D=向量维数"
   ]
  },
  {
   "cell_type": "markdown",
   "id": "cd263441-40a7-4dc2-a78b-0cb9f3290f52",
   "metadata": {},
   "source": [
    "### 输出： (N,1)"
   ]
  },
  {
   "cell_type": "code",
   "execution_count": null,
   "id": "5b4f76c2-2492-4a0c-bcea-bb47e2083e82",
   "metadata": {},
   "outputs": [],
   "source": [
    "pdist = nn.PairwiseDistance(2)\n",
    "input1 = autograd.Variable(torch.randn(5, 128))\n",
    "input2 = autograd.Variable(torch.randn(5, 128))\n",
    "output = pdist(input1, input2)"
   ]
  },
  {
   "cell_type": "code",
   "execution_count": null,
   "id": "f5bff40b-093c-4a98-a22d-0aa297c4a3a8",
   "metadata": {},
   "outputs": [
    {
     "data": {
      "text/plain": [
       "tensor([15.8720, 17.3040, 16.8190, 16.7946, 16.5825])"
      ]
     },
     "execution_count": null,
     "metadata": {},
     "output_type": "execute_result"
    }
   ],
   "source": [
    "output"
   ]
  },
  {
   "cell_type": "markdown",
   "id": "803eb82e-9b73-4f32-abe3-dea20126591a",
   "metadata": {},
   "source": [
    "# Loss functions 损失函数"
   ]
  },
  {
   "cell_type": "markdown",
   "id": "feb5fe4e-1e95-4419-b6d3-540710a6be1d",
   "metadata": {},
   "source": [
    "基本用法："
   ]
  },
  {
   "cell_type": "markdown",
   "id": "ccf031e4-9a88-402e-a483-bff672f510e0",
   "metadata": {},
   "source": [
    "``` \n",
    "criterion = LossCriterion() #构造函数有自己的参数\n",
    "loss = criterion(x, y) #调用标准时也有参数 \n",
    "```"
   ]
  },
  {
   "cell_type": "markdown",
   "id": "0571aca0-825e-4c04-b158-1bb7a3ba04c3",
   "metadata": {},
   "source": [
    "## nn.L1Loss"
   ]
  },
  {
   "cell_type": "markdown",
   "id": "3fc286b2-8b69-4213-b766-07aedadbb27e",
   "metadata": {},
   "source": [
    "创建一个衡量输入x(模型预测输出)和目标y之间差的绝对值的平均值的标准。"
   ]
  },
  {
   "cell_type": "markdown",
   "id": "d334dd66-f02e-4e62-ba77-497341f806de",
   "metadata": {},
   "source": [
    "$$loss(x,y)=1/n∑|xi−yi|$$"
   ]
  },
  {
   "cell_type": "markdown",
   "id": "b5f54daf-5d54-4f1f-b674-3e06320dcab4",
   "metadata": {},
   "source": [
    "- x 和 y 可以是任意形状，每个包含n个元素。\n",
    "\n",
    "- 对n个元素对应的差值的绝对值求和，得出来的结果除以n。\n",
    "\n",
    "- 如果在创建L1Loss实例的时候在构造函数中传入size_average=False，那么求出来的绝对值的和将不会除以n"
   ]
  },
  {
   "cell_type": "markdown",
   "id": "41e589ec-fb02-4663-864f-d62843f80512",
   "metadata": {},
   "source": [
    "## nn.MSELoss"
   ]
  },
  {
   "cell_type": "markdown",
   "id": "5610261e-ec57-4233-9279-b626111464b9",
   "metadata": {},
   "source": [
    "创建一个衡量输入x(模型预测输出)和目标y之间均方误差标准。"
   ]
  },
  {
   "cell_type": "markdown",
   "id": "aa3b84ff-789f-4a65-ba72-2d26dd60ebfd",
   "metadata": {},
   "source": [
    "$$loss(x,y)=1/n∑(xi−yi)^2$$"
   ]
  },
  {
   "cell_type": "markdown",
   "id": "cfda0996-0e14-453b-abe1-bda1699c23e2",
   "metadata": {},
   "source": [
    "- x 和 y 可以是任意形状，每个包含n个元素。\n",
    "\n",
    "- 对n个元素对应的差值的绝对值求和，得出来的结果除以n。\n",
    "\n",
    "- 如果在创建MSELoss实例的时候在构造函数中传入size_average=False，那么求出来的平方和将不会除以n"
   ]
  },
  {
   "cell_type": "markdown",
   "id": "b1b904d6-5ec7-4bf8-9a7d-47265f95304e",
   "metadata": {},
   "source": [
    "## nn.CrossEntropyLoss"
   ]
  },
  {
   "cell_type": "markdown",
   "id": "fb79c6af-0bd5-4860-ba39-0f62e3922427",
   "metadata": {},
   "source": [
    "*交叉熵损失*\n",
    "\n",
    "此标准将LogSoftMax和NLLLoss集成到一个类中。\n",
    "\n",
    "当训练一个多类分类器的时候，这个方法是十分有用的。"
   ]
  },
  {
   "cell_type": "markdown",
   "id": "864fa775-decf-4b56-b3f5-62ee12998da6",
   "metadata": {},
   "source": [
    "- weight(tensor): 1-D tensor，n个元素，分别代表n类的权重，如果你的训练样本很不均衡的话，是非常有用的。默认值为None。"
   ]
  },
  {
   "cell_type": "markdown",
   "id": "9cd6a815-78d5-4132-8aee-5fdcfa09e86d",
   "metadata": {},
   "source": [
    "### 调用时参数："
   ]
  },
  {
   "cell_type": "markdown",
   "id": "2d9767aa-1126-4084-ae41-2b51b6d61fd3",
   "metadata": {},
   "source": [
    "- input : 包含每个类的得分，2-D tensor,shape为 batch*n\n",
    "\n",
    "- target: 大小为 n 的 1—D tensor，包含类别的索引(0到 n-1)。\n",
    "\n",
    "- 计算出的loss对mini-batch的大小取了平均。"
   ]
  },
  {
   "cell_type": "markdown",
   "id": "a9abbbb1-0d47-486b-8b25-58db87e5a480",
   "metadata": {},
   "source": [
    "### 形状(shape)："
   ]
  },
  {
   "cell_type": "markdown",
   "id": "c0303d94-3cc0-4e18-998a-39273fe0c161",
   "metadata": {},
   "source": [
    "- Input: (N,C) C 是类别的数量\n",
    "\n",
    "- Target: (N) N是mini-batch的大小，0 <= targets[i] <= C-1"
   ]
  },
  {
   "cell_type": "markdown",
   "id": "5bb8ae86-1600-4d78-a722-800cdbebb27f",
   "metadata": {},
   "source": [
    "## nn.NLLLoss"
   ]
  },
  {
   "cell_type": "markdown",
   "id": "daf09736-ade5-4679-9a37-6d71ea207c03",
   "metadata": {},
   "source": [
    "*负对数似然*"
   ]
  },
  {
   "cell_type": "markdown",
   "id": "81f3062f-266b-45e1-94d2-cad54b872588",
   "metadata": {},
   "source": [
    "用于训练一个n类分类器。\n",
    "\n",
    "`weight`参数应该是一个1-Dtensor(如果提供的话)，里面的值对应类别的权重。当你的训练集样本不均衡的话，使用这个参数是非常有用的。\n",
    "\n",
    "输入是一个包含类别`log-probabilities`的2-D tensor，形状是（mini-batch， n）\n",
    "\n",
    "可以通过在最后一层加`LogSoftmax`来获得类别的`log-probabilities`。\n",
    "\n",
    "如果您不想增加一个额外层的话，您可以使用`CrossEntropyLoss`。\n",
    "\n",
    "此loss期望的`target`是类别的索引 (0 to N-1, where N = number of classes)"
   ]
  },
  {
   "cell_type": "markdown",
   "id": "17603139-ed7d-4176-8d0f-37eb35bc59c8",
   "metadata": {},
   "source": [
    "### 参数：\n",
    "\n",
    "- weight (Tensor, optional) – 手动指定每个类别的权重。如果给定的话，必须是长度为nclasses\n",
    "\n",
    "- size_average (bool, optional) – 默认情况下，会计算`mini-batch` `loss`的平均值。然而，如果size_average=False那么将会把mini-batch中所有样本的loss累加起来。"
   ]
  },
  {
   "cell_type": "markdown",
   "id": "faf39974-d122-4350-a6f0-b5bb76cbeb48",
   "metadata": {},
   "source": [
    "### 形状:\n",
    "\n",
    "- Input: (N,C) , C是类别的个数\n",
    "\n",
    "- Target: (N) ， target中每个值的大小满足 0 <= targets[i] <= C-1"
   ]
  },
  {
   "cell_type": "markdown",
   "id": "d57d5dd6-37f9-45bc-ab01-3ccbf550f042",
   "metadata": {},
   "source": [
    "### 例子："
   ]
  },
  {
   "cell_type": "code",
   "execution_count": null,
   "id": "92f2cc38-107c-4e1a-bff9-53901cc38097",
   "metadata": {},
   "outputs": [],
   "source": [
    "m = nn.LogSoftmax(dim=0)\n",
    "loss = nn.NLLLoss()\n",
    "# input is of size nBatch x nClasses = 3 x 5\n",
    "input0 = autograd.Variable(torch.randn(3, 5), requires_grad=True)\n",
    "# each element in target has to have 0 <= value < nclasses\n",
    "target = autograd.Variable(torch.LongTensor([1, 0, 4]))\n",
    "output = loss(m(input0), target)\n",
    "output.backward()"
   ]
  },
  {
   "cell_type": "markdown",
   "id": "deffb9bb-5d64-4702-a149-03f3ec1f256b",
   "metadata": {},
   "source": [
    "### nn.NLLLoss2d"
   ]
  },
  {
   "cell_type": "markdown",
   "id": "ad50e923-cf6b-4104-a3a5-a288106b3b67",
   "metadata": {},
   "source": [
    "- weight (Tensor, optional) – 用来作为每类的权重(如果提供的话),必须为1-Dtensor，大小为C：类别的个数。\n",
    "\n",
    "- size_average – 默认情况下，会计算 mini-batch loss均值。如果设置为 False 的话，将会累加mini-batch中所有样本的loss值。默认值：True。"
   ]
  },
  {
   "cell_type": "markdown",
   "id": "7bd7925e-3c06-4376-8cba-a6dc9ae55057",
   "metadata": {},
   "source": [
    "### nn.KLDivLoss"
   ]
  },
  {
   "cell_type": "markdown",
   "id": "22a6ab75-f4b4-4b28-9f84-f027a92bd924",
   "metadata": {},
   "source": [
    "[*相对熵损失*](https://zh.wikipedia.org/zh-cn/%E7%9B%B8%E5%AF%B9%E7%86%B5)"
   ]
  },
  {
   "cell_type": "markdown",
   "id": "2d28f56f-7e0a-4302-886f-f76d7a392f10",
   "metadata": {},
   "source": [
    "相对熵 = 某个策略的交叉熵 - 信息熵"
   ]
  },
  {
   "cell_type": "markdown",
   "id": "225f6c56-e7f2-4aa1-bd71-0d537817c37d",
   "metadata": {},
   "source": [
    "计算 KL 散度损失。\n",
    "\n",
    "KL散度常用来描述两个分布的距离，并在输出分布的空间上执行直接回归是有用的。\n",
    "\n",
    "与`NLLLoss`一样，给定的输入应该是`log-probabilities`。然而。和`NLLLoss`不同的是，`input`不限于2-D tensor，因为此标准是基于element的。\n",
    "\n",
    "`target` 应该和 `input`的形状相同。"
   ]
  },
  {
   "cell_type": "markdown",
   "id": "1c78f34c-fb5a-4c84-ae04-b92f7992204a",
   "metadata": {},
   "source": [
    "默认情况下，loss会基于element求平均。如果 size_average=False,loss 会被累加起来。"
   ]
  },
  {
   "cell_type": "markdown",
   "id": "2bf81d14-b8e5-486a-a813-3289c75b8430",
   "metadata": {},
   "source": [
    "## nn.BCELoss"
   ]
  },
  {
   "cell_type": "markdown",
   "id": "05d6afb1-eeed-4571-9e04-97224c10e5c5",
   "metadata": {},
   "source": [
    "计算 target 与 output 之间的二元交叉熵。 \n",
    "\n",
    "$$ loss(o,t)=-\\frac{1}{n}\\sum_i(t[i] log(o[i])+(1-t[i]) log(1-o[i])) $$ \n",
    "\n",
    "如果weight被指定 ： \n",
    "\n",
    "$$ loss(o,t)=-\\frac{1}{n}\\sum_iweights[i] (t[i] log(o[i])+(1-t[i])* log(1-o[i])) $$"
   ]
  },
  {
   "cell_type": "markdown",
   "id": "519dfc7c-5f40-4cbb-a7e0-f6406d938b99",
   "metadata": {},
   "source": [
    "## nn.MarginRankingLoss"
   ]
  },
  {
   "cell_type": "markdown",
   "id": "5080a9a7-3bb8-4aaf-8e7f-96532aad0d33",
   "metadata": {},
   "source": [
    "排序损失函数"
   ]
  },
  {
   "cell_type": "markdown",
   "id": "9f19d153-d870-4f4b-b3e8-531bfdf9f3d1",
   "metadata": {},
   "source": [
    "创建一个标准，给定输入 $x1$,$x2$两个1-D mini-batch Tensor's，和一个$y$(1-D mini-batch tensor) ,$y$里面的值只能是-1或1。\n",
    "\n",
    "如果 y=1，代表第一个输入的值应该大于第二个输入的值，如果y=-1的话，则相反。"
   ]
  },
  {
   "cell_type": "markdown",
   "id": "a671e814-ce76-43eb-8125-5b18a1c11d1c",
   "metadata": {},
   "source": [
    "## nn.HingeEmbeddingLoss"
   ]
  },
  {
   "cell_type": "markdown",
   "id": "310a5e98-61ce-4a13-a71d-4b10f421f164",
   "metadata": {},
   "source": [
    "用于判断两个向量是否相似，输入是两个向量之间的距离"
   ]
  },
  {
   "cell_type": "markdown",
   "id": "9f0d1f3f-932e-4f4e-b03d-87c51d65df04",
   "metadata": {},
   "source": [
    "给定一个输入 $x$(2-D mini-batch tensor)和对应的 标签 $y$ (1-D tensor,1,-1)，此函数用来计算两组向量之间的损失值。这个loss通常用来测量两个输入是否相似，即：使用L1 成对距离。典型是用在学习非线性 embedding或者半监督学习中："
   ]
  },
  {
   "cell_type": "markdown",
   "id": "f75f58e9-5dd2-4134-bc78-587e40b8b924",
   "metadata": {},
   "source": [
    "$x$和$y$可以是任意形状，且都有n的元素，loss的求和操作作用在所有的元素上，然后除以n。如果您不想除以n的话，可以通过设置size_average=False。"
   ]
  },
  {
   "cell_type": "markdown",
   "id": "684db20e-6552-4bf1-b009-92494bb65524",
   "metadata": {},
   "source": [
    "### 例子："
   ]
  },
  {
   "cell_type": "code",
   "execution_count": null,
   "id": "4b76c61f-bb72-4a79-80b4-5c6707aa75e8",
   "metadata": {},
   "outputs": [
    {
     "name": "stdout",
     "output_type": "stream",
     "text": [
      "torch.Size([100])\n",
      "0.4487411081790924\n",
      "tensor([0.0000, 0.0000, 0.0000, 0.0000, 0.9112, 0.0000, 0.9974, 0.0000, 0.0000, 0.0000, 0.0000, 0.0000, 1.0311, 0.0000, 0.0000, 0.0000, 1.0199, 0.0000, 0.9601, 0.0000, 1.0657, 0.8382, 1.0400, 1.0655,\n",
      "        0.0000, 0.8794, 0.0000, 1.0720, 1.0367, 1.0841, 0.8692, 1.0141, 0.0000, 0.9980, 0.0000, 0.9341, 1.0703, 1.0783, 1.1506, 0.0000, 0.8374, 0.0000, 0.0000, 0.0000, 0.0000, 0.0000, 0.0000, 1.1050,\n",
      "        0.0000, 0.0000, 0.0000, 0.0000, 0.0000, 0.0000, 1.1145, 1.0173, 0.0000, 0.0000, 0.9589, 0.0000, 1.0414, 0.8126, 0.8562, 0.0000, 1.2132, 1.0313, 0.0000, 0.0000, 1.0011, 0.0000, 0.0000, 1.1065,\n",
      "        0.0000, 1.0584, 0.0000, 1.1716, 0.0000, 0.9385, 0.0000, 0.9754, 0.0000, 0.0000, 1.0354, 0.0000, 1.0717, 0.0000, 0.0000, 1.1551, 0.0000, 0.8999, 0.0000, 1.1494, 0.0000, 0.0000, 1.0500, 0.0000,\n",
      "        0.0000, 0.9993, 0.0000, 1.1581], grad_fn=<AddBackward0>)\n"
     ]
    }
   ],
   "source": [
    "hinge_loss = nn.HingeEmbeddingLoss(margin=0.2)\n",
    "a = torch.randn(100, 128, requires_grad=True)\n",
    "b = torch.randn(100, 128, requires_grad=True)\n",
    "x = 1 - torch.cosine_similarity(a, b)\n",
    "# 定义a与b之间的距离为x\n",
    "print(x.size())\n",
    "y = 2 * torch.empty(100).random_(2) - 1\n",
    "output = hinge_loss(x, y)\n",
    "print(output.item())\n",
    "\n",
    "hinge_loss = nn.HingeEmbeddingLoss(margin=0.2, reduction=\"none\")\n",
    "output = hinge_loss(x, y)\n",
    "print(output)"
   ]
  },
  {
   "cell_type": "markdown",
   "id": "183d450c-4f50-4bf0-b828-ec1dcb80c414",
   "metadata": {},
   "source": [
    "## nn.MultiLabelMarginLoss"
   ]
  },
  {
   "cell_type": "markdown",
   "id": "d2dcdb1b-46ae-43eb-9294-8c351ea02b20",
   "metadata": {},
   "source": [
    "计算多标签分类的 hinge loss(margin-based loss) ，计算loss时需要两个输入： input x(2-D mini-batch Tensor)，和 output y(2-D tensor表示mini-batch中样本类别的索引)。"
   ]
  },
  {
   "cell_type": "markdown",
   "id": "e526fe1d-948d-4a03-bd24-9ca475d848aa",
   "metadata": {},
   "source": [
    "### 例子："
   ]
  },
  {
   "cell_type": "code",
   "execution_count": null,
   "id": "860dffb0-23a7-46e3-8d7f-3519477ecc08",
   "metadata": {},
   "outputs": [
    {
     "name": "stdout",
     "output_type": "stream",
     "text": [
      "torch.Size([2, 4])\n",
      "torch.Size([2])\n",
      "tensor([0.3250, 0.3250])\n",
      "0.6499999761581421\n",
      "0.32499998807907104\n",
      "0.32499999999999996\n"
     ]
    }
   ],
   "source": [
    "x = torch.FloatTensor([[0.1, 0.2, 0.4, 0.8], [0.1, 0.2, 0.4, 0.8]])\n",
    "print(x.size())\n",
    "y = torch.LongTensor([3, 3])\n",
    "print(y.size())\n",
    "\n",
    "loss = nn.MultiMarginLoss(reduction=\"none\")\n",
    "loss_val = loss(x, y)\n",
    "print(loss_val)\n",
    "\n",
    "loss = nn.MultiMarginLoss(reduction=\"sum\")\n",
    "loss_val = loss(x, y)\n",
    "print(loss_val.item())\n",
    "print(loss_val.item() / x.size(0))\n",
    "#验证\n",
    "print(1 / 2 * 1 / 4 * ((1 - 0.8 + 0.1) + (1 - 0.8 + 0.2) + (1 - 0.8 + 0.4) +\n",
    "                       (1 - 0.8 + 0.1) + (1 - 0.8 + 0.2) + (1 - 0.8 + 0.4)))"
   ]
  },
  {
   "cell_type": "markdown",
   "id": "cd512556-b035-4b93-8d9c-f14ac18ed126",
   "metadata": {},
   "source": [
    "## nn.SmoothL1Loss"
   ]
  },
  {
   "cell_type": "markdown",
   "id": "857cbabc-816e-4291-921d-18e4531d5afa",
   "metadata": {},
   "source": [
    "平滑版L1 loss。"
   ]
  },
  {
   "cell_type": "markdown",
   "id": "e78bf15d-4532-4a34-b05d-a8fca0215750",
   "metadata": {},
   "source": [
    "此loss对于异常点的敏感性不如MSELoss，而且，在某些情况下防止了梯度爆炸，(参照 Fast R-CNN)。这个loss有时也被称为 Huber loss。"
   ]
  },
  {
   "cell_type": "markdown",
   "id": "6cc9c195-f4a5-4dc2-8d82-d929b4099457",
   "metadata": {},
   "source": [
    "## nn.SoftMarginLoss"
   ]
  },
  {
   "cell_type": "markdown",
   "id": "4d1d597b-bc12-4c1a-b4e6-90b73cb61777",
   "metadata": {},
   "source": [
    "用于二分类任务"
   ]
  },
  {
   "cell_type": "code",
   "execution_count": null,
   "id": "dba906c1-757f-4784-b44f-55cf2a9100e0",
   "metadata": {},
   "outputs": [],
   "source": []
  }
 ],
 "metadata": {
  "kernelspec": {
   "display_name": "Python 3 (ipykernel)",
   "language": "python",
   "name": "python3"
  },
  "widgets": {
   "application/vnd.jupyter.widget-state+json": {
    "state": {},
    "version_major": 2,
    "version_minor": 0
   }
  }
 },
 "nbformat": 4,
 "nbformat_minor": 5
}
