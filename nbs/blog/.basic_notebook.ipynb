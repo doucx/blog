{
 "cells": [
  {
   "cell_type": "raw",
   "id": "5495bc06-f5ec-4183-b85e-b1e864bce582",
   "metadata": {},
   "source": [
    "---\n",
    "author: [Doucx]\n",
    "date: 2023-01-01\n",
    "description: DES\n",
    "tags: [TAGS]\n",
    "title: TITLE''\n",
    "---"
   ]
  }
 ],
 "metadata": {
  "kernelspec": {
   "display_name": "Python 3 (ipykernel)",
   "language": "python",
   "name": "python3"
  },
  "widgets": {
   "application/vnd.jupyter.widget-state+json": {
    "state": {},
    "version_major": 2,
    "version_minor": 0
   }
  }
 },
 "nbformat": 4,
 "nbformat_minor": 5
}
